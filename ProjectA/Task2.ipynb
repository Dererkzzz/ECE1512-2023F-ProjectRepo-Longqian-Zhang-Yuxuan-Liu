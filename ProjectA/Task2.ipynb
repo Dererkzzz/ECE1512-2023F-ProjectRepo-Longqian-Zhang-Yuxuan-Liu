{
  "cells": [
    {
      "cell_type": "markdown",
      "metadata": {
        "id": "view-in-github",
        "colab_type": "text"
      },
      "source": [
        "<a href=\"https://colab.research.google.com/github/Dererkzzz/ECE1512-2023F-ProjectRepo-Longqian-Zhang-Yuxuan-Liu/blob/main/ProjectA/Task2.ipynb\" target=\"_parent\"><img src=\"https://colab.research.google.com/assets/colab-badge.svg\" alt=\"Open In Colab\"/></a>"
      ]
    },
    {
      "cell_type": "code",
      "execution_count": 1,
      "metadata": {
        "id": "O-Xmy28SnM65"
      },
      "outputs": [],
      "source": [
        "import tensorflow.compat.v2 as tf\n",
        "from typing import Union\n",
        "from tensorflow.keras.layers import *\n",
        "from keras.preprocessing.image import ImageDataGenerator\n",
        "import tensorflow.keras.utils as utils\n",
        "import keras\n",
        "import numpy\n",
        "import pandas as pd\n",
        "import numpy as np\n",
        "import matplotlib.pyplot as plt\n",
        "from sklearn.metrics import roc_auc_score\n",
        "from IPython.display import Image, display\n",
        "from google.colab import drive\n",
        "import os\n",
        "tf.enable_v2_behavior()"
      ]
    },
    {
      "cell_type": "code",
      "source": [
        "drive.mount('/content/drive')\n",
        "target_directory = r'/content/drive/My Drive/ECE_1512_ProjectA/mhist_dataset/images'\n",
        "os.chdir(target_directory)\n",
        "image_table = pd.read_csv('/content/drive/My Drive/ECE_1512_ProjectA/mhist_dataset/annotations.csv')"
      ],
      "metadata": {
        "id": "6QyASH-8p8XB",
        "outputId": "d8161743-a113-4a50-e161-b02365f29a55",
        "colab": {
          "base_uri": "https://localhost:8080/"
        }
      },
      "execution_count": 2,
      "outputs": [
        {
          "output_type": "stream",
          "name": "stdout",
          "text": [
            "Mounted at /content/drive\n"
          ]
        }
      ]
    },
    {
      "cell_type": "markdown",
      "metadata": {
        "id": "PIlGBSZMvbAY"
      },
      "source": [
        "#train/test dataset\n"
      ]
    },
    {
      "cell_type": "code",
      "execution_count": 3,
      "metadata": {
        "id": "WickJH3pvVIw"
      },
      "outputs": [],
      "source": [
        "train_set = image_table[image_table['Partition'] == 'train']\n",
        "test_set = image_table[image_table['Partition'] == 'test']\n"
      ]
    },
    {
      "cell_type": "code",
      "execution_count": 4,
      "metadata": {
        "id": "ssFQ0FvHvx4C"
      },
      "outputs": [],
      "source": [
        "image_dir = '/content/drive/My Drive//ECE_1512_ProjectA/mhist_dataset/images'"
      ]
    },
    {
      "cell_type": "code",
      "execution_count": 5,
      "metadata": {
        "id": "2bzyB1YwyiQ_"
      },
      "outputs": [],
      "source": [
        "# data augmentation\n",
        "train_set_augmentation = ImageDataGenerator(\n",
        "    rescale=1/255.0,\n",
        "    shear_range=-0.1,\n",
        "    rotation_range=15,\n",
        "    horizontal_flip=True,\n",
        "    vertical_flip=True,\n",
        "    zoom_range=0.2,\n",
        "    width_shift_range=0.2,\n",
        "    height_shift_range=0.2\n",
        ")\n",
        "\n",
        "test_set_augmentation = ImageDataGenerator(\n",
        "    rescale=1/255.0\n",
        ")"
      ]
    },
    {
      "cell_type": "markdown",
      "metadata": {
        "id": "weo4zQkXzm8a"
      },
      "source": [
        "#Create dataset generator"
      ]
    },
    {
      "cell_type": "code",
      "execution_count": 6,
      "metadata": {
        "colab": {
          "base_uri": "https://localhost:8080/"
        },
        "id": "j6cGxcLfyqjA",
        "outputId": "8beaac62-fa7d-480b-9037-d8d2cec2f1c7"
      },
      "outputs": [
        {
          "output_type": "stream",
          "name": "stdout",
          "text": [
            "Found 2175 validated image filenames belonging to 2 classes.\n"
          ]
        }
      ],
      "source": [
        "train_set_create = train_set_augmentation.flow_from_dataframe(\n",
        "    dataframe=train_set,\n",
        "    directory=image_dir,\n",
        "    x_col=\"Image Name\",\n",
        "    y_col=\"Majority Vote Label\",\n",
        "    batch_size=32,\n",
        "    seed=50,\n",
        "    shuffle=True,\n",
        "    interpolation='lanczos',\n",
        "    class_mode=\"categorical\",\n",
        "    target_size=(224, 224)\n",
        ")"
      ]
    },
    {
      "cell_type": "code",
      "execution_count": 7,
      "metadata": {
        "colab": {
          "base_uri": "https://localhost:8080/"
        },
        "id": "sVTW91AGztKj",
        "outputId": "dc05ccea-4076-4fea-932d-7592beded957"
      },
      "outputs": [
        {
          "output_type": "stream",
          "name": "stdout",
          "text": [
            "Found 977 validated image filenames belonging to 2 classes.\n"
          ]
        }
      ],
      "source": [
        "test_set_create = test_set_augmentation.flow_from_dataframe(\n",
        "    dataframe=test_set,\n",
        "    directory=image_dir,\n",
        "    x_col=\"Image Name\",\n",
        "    y_col=\"Majority Vote Label\",\n",
        "    batch_size=32,\n",
        "    seed=50,\n",
        "    shuffle=False,\n",
        "    interpolation='lanczos',\n",
        "    class_mode=\"categorical\",\n",
        "    target_size=(224, 224)\n",
        ")"
      ]
    },
    {
      "cell_type": "markdown",
      "metadata": {
        "id": "KD2b8Nsq1o8I"
      },
      "source": [
        "#Create ResNet50v2 model"
      ]
    },
    {
      "cell_type": "code",
      "execution_count": 8,
      "metadata": {
        "colab": {
          "base_uri": "https://localhost:8080/"
        },
        "id": "B4-eGCoa2TWs",
        "outputId": "3bc0b082-ab81-48ec-ca9e-84e01f37f74c"
      },
      "outputs": [
        {
          "output_type": "stream",
          "name": "stdout",
          "text": [
            "Downloading data from https://storage.googleapis.com/tensorflow/keras-applications/resnet/resnet50v2_weights_tf_dim_ordering_tf_kernels_notop.h5\n",
            "94668760/94668760 [==============================] - 1s 0us/step\n"
          ]
        }
      ],
      "source": [
        "resnet = tf.keras.applications.ResNet50V2(\n",
        "    include_top=False,\n",
        "    weights=\"imagenet\",\n",
        "    input_tensor=None,\n",
        "    input_shape=(224, 224, 3),\n",
        "    pooling='avg'\n",
        ")\n",
        "\n",
        "# freeze some layers to reduce calcuate time\n",
        "freeze_layers = 160\n",
        "for layer in resnet.layers[:freeze_layers]:\n",
        "    layer.trainable = False"
      ]
    },
    {
      "cell_type": "code",
      "execution_count": 9,
      "metadata": {
        "colab": {
          "base_uri": "https://localhost:8080/",
          "height": 544
        },
        "id": "NoXIhlQt4Clg",
        "outputId": "7fb36729-0f42-4280-9e3a-483ad1cec93f"
      },
      "outputs": [
        {
          "output_type": "stream",
          "name": "stdout",
          "text": [
            "Model: \"sequential\"\n",
            "_________________________________________________________________\n",
            " Layer (type)                Output Shape              Param #   \n",
            "=================================================================\n",
            " resnet50v2 (Functional)     (None, 2048)              23564800  \n",
            "                                                                 \n",
            " dense (Dense)               (None, 2)                 4098      \n",
            "                                                                 \n",
            "=================================================================\n",
            "Total params: 23568898 (89.91 MB)\n",
            "Trainable params: 14447618 (55.11 MB)\n",
            "Non-trainable params: 9121280 (34.79 MB)\n",
            "_________________________________________________________________\n"
          ]
        },
        {
          "output_type": "display_data",
          "data": {
            "image/png": "[encoded data removed]",
            "text/plain": [
              "<IPython.core.display.Image object>"
            ]
          },
          "metadata": {}
        }
      ],
      "source": [
        "# add dense layer for class 2\n",
        "output_layer = tf.keras.layers.Dense(units=2, activation='linear')\n",
        "\n",
        "teacher_res = tf.keras.Sequential([resnet, output_layer])\n",
        "teacher_res.summary()\n",
        "file_path = 'teacher_res_model.png'\n",
        "tf.keras.utils.plot_model(teacher_res, to_file=file_path, show_shapes=True, show_layer_names=True)\n",
        "display(Image(filename=file_path))"
      ]
    },
    {
      "cell_type": "markdown",
      "metadata": {
        "id": "pC2brm-K4iMF"
      },
      "source": [
        "#Create mobilenet model"
      ]
    },
    {
      "cell_type": "code",
      "execution_count": 10,
      "metadata": {
        "id": "_D2KqK_a4nrg",
        "colab": {
          "base_uri": "https://localhost:8080/"
        },
        "outputId": "6ddf4fa3-ef8b-4988-e08e-b23afbd38b99"
      },
      "outputs": [
        {
          "output_type": "stream",
          "name": "stdout",
          "text": [
            "Downloading data from https://storage.googleapis.com/tensorflow/keras-applications/mobilenet_v2/mobilenet_v2_weights_tf_dim_ordering_tf_kernels_1.0_224_no_top.h5\n",
            "9406464/9406464 [==============================] - 0s 0us/step\n"
          ]
        }
      ],
      "source": [
        "mobilenet = tf.keras.applications.MobileNetV2(\n",
        "    include_top=False,\n",
        "    weights=\"imagenet\",\n",
        "    input_tensor=None,\n",
        "    input_shape=(224, 224, 3),\n",
        "    pooling='max'\n",
        ")"
      ]
    },
    {
      "cell_type": "code",
      "execution_count": 11,
      "metadata": {
        "id": "fdIYlrKg5zTN"
      },
      "outputs": [],
      "source": [
        "count=0\n",
        "for layers in mobilenet.layers:\n",
        "  count+=1\n",
        "  if count> 130:\n",
        "    layers.trainable=True\n",
        "  else:\n",
        "    layers.trainable=False\n"
      ]
    },
    {
      "cell_type": "code",
      "execution_count": 12,
      "metadata": {
        "colab": {
          "base_uri": "https://localhost:8080/",
          "height": 562
        },
        "id": "Ptuyn49E7CYY",
        "outputId": "cc9aa80f-2315-4923-8ff5-f3021c8a29dc"
      },
      "outputs": [
        {
          "output_type": "stream",
          "name": "stdout",
          "text": [
            "Model: \"sequential_1\"\n",
            "_________________________________________________________________\n",
            " Layer (type)                Output Shape              Param #   \n",
            "=================================================================\n",
            " mobilenetv2_1.00_224 (Func  (None, 1280)              2257984   \n",
            " tional)                                                         \n",
            "                                                                 \n",
            " dense_1 (Dense)             (None, 2)                 2562      \n",
            "                                                                 \n",
            "=================================================================\n",
            "Total params: 2260546 (8.62 MB)\n",
            "Trainable params: 1362562 (5.20 MB)\n",
            "Non-trainable params: 897984 (3.43 MB)\n",
            "_________________________________________________________________\n"
          ]
        },
        {
          "output_type": "display_data",
          "data": {
            "image/png": "[encoded data removed]",
            "text/plain": [
              "<IPython.core.display.Image object>"
            ]
          },
          "metadata": {}
        }
      ],
      "source": [
        "output_layer = tf.keras.layers.Dense(units=2, activation='linear')\n",
        "\n",
        "# 创建学生模型\n",
        "student_mobile = tf.keras.Sequential([mobilenet, output_layer])\n",
        "student_mobile.summary()\n",
        "file_path = 'student_mobile_modle.png'\n",
        "tf.keras.utils.plot_model(student_mobile, to_file=file_path, show_shapes=True, show_layer_names=True)\n",
        "display(Image(filename=file_path))"
      ]
    },
    {
      "cell_type": "markdown",
      "metadata": {
        "id": "8JWGucyrQGav"
      },
      "source": [
        "# Teacher loss function"
      ]
    },
    {
      "cell_type": "code",
      "execution_count": 13,
      "metadata": {
        "id": "5Cuj_pfb9HhX"
      },
      "outputs": [],
      "source": [
        "def compute_teacher_loss(images, labels):\n",
        "\n",
        "  subclass_logits = teacher_res(images, training=True)\n",
        "  # Compute cross-entropy loss for subclasses.\n",
        "  # your code start from here for step 3\n",
        "  cross_entropy_loss_value = tf.keras.losses.CategoricalCrossentropy(from_logits=True)(labels, subclass_logits)\n",
        "\n",
        "  return cross_entropy_loss_value"
      ]
    },
    {
      "cell_type": "markdown",
      "metadata": {
        "id": "JS8xkuH0QbOS"
      },
      "source": [
        "# Student loss function"
      ]
    },
    {
      "cell_type": "code",
      "execution_count": 14,
      "metadata": {
        "id": "J6xV9FbN9P43"
      },
      "outputs": [],
      "source": [
        "ALPHA = 0.5 # task balance between cross-entropy and distillation loss\n",
        "DISTILLATION_TEMPERATURE = 4. #temperature hyperparameter\n",
        "\n",
        "def distillation_loss(teacher_logits: tf.Tensor, student_logits: tf.Tensor,\n",
        "                      temperature: Union[float, tf.Tensor]):\n",
        "\n",
        " # your code start from here for step 3\n",
        "  soft_targets = tf.nn.softmax(teacher_logits/temperature)\n",
        "\n",
        "  return tf.reduce_mean(\n",
        "      tf.nn.softmax_cross_entropy_with_logits(\n",
        "          soft_targets, student_logits / temperature)) * temperature ** 2\n",
        "\n",
        "def compute_student_loss(images, labels, ALPHA, DISTILLATION_TEMPERATURE):\n",
        "\n",
        "  student_subclass_logits = student_mobile(images, training=True)\n",
        "  teacher_subclass_logits = teacher_res(images, training=False)\n",
        "  distillation_loss_value = distillation_loss(teacher_subclass_logits, student_subclass_logits,\n",
        "                      DISTILLATION_TEMPERATURE)\n",
        "  cross_entropy_loss_value = tf.keras.losses.CategoricalCrossentropy(from_logits=True)(labels, student_subclass_logits)\n",
        "\n",
        "  return ALPHA * distillation_loss_value + (1-ALPHA)* cross_entropy_loss_value"
      ]
    },
    {
      "cell_type": "markdown",
      "metadata": {
        "id": "wHF_CTM72yD2"
      },
      "source": [
        "# Train and evaluation\n"
      ]
    },
    {
      "cell_type": "code",
      "execution_count": 15,
      "metadata": {
        "id": "Fm8OlgY1h-ab"
      },
      "outputs": [],
      "source": [
        "def compute_num_correct(model, images, labels):\n",
        "\n",
        "  class_logits = model(images, training=False)\n",
        "\n",
        "  return tf.reduce_sum(\n",
        "      tf.cast(tf.math.equal(tf.argmax(class_logits, -1), tf.argmax(labels, -1)),\n",
        "              tf.float32)), tf.argmax(class_logits, -1), tf.argmax(labels, -1)"
      ]
    },
    {
      "cell_type": "markdown",
      "metadata": {
        "id": "lOeev_wAiHKD"
      },
      "source": [
        "AUC function"
      ]
    },
    {
      "cell_type": "code",
      "execution_count": 16,
      "metadata": {
        "id": "gB-XEj_7iDth"
      },
      "outputs": [],
      "source": [
        "def compute_auc(model, generator):\n",
        "    predictions = []\n",
        "    ground_truth = []\n",
        "\n",
        "    for _ in range(31):\n",
        "        images, labels = generator.next()\n",
        "        logits = model(images, training=False)\n",
        "        probabilities = tf.nn.softmax(logits, axis=-1)\n",
        "        predictions.extend(probabilities.numpy())\n",
        "        ground_truth.extend(labels)\n",
        "    auc = roc_auc_score(ground_truth, predictions, multi_class='ovr')\n",
        "\n",
        "    return auc"
      ]
    },
    {
      "cell_type": "code",
      "execution_count": 24,
      "metadata": {
        "id": "QT9rVAug-XHp"
      },
      "outputs": [],
      "source": [
        "def train_and_evaluate_teacher(model, compute_loss_fn):\n",
        "\n",
        "  optimizer = tf.keras.optimizers.Adam(learning_rate=0.0001)\n",
        "  for epoch in range(1, 10 + 1):\n",
        "    print('Epoch {}: '.format(epoch), end='')\n",
        "    train_set_create.reset()\n",
        "\n",
        "    # range(68) bacause the num of image in train dataset\n",
        "    for _ in range(68):\n",
        "      images, labels = train_set_create.next()\n",
        "      with tf.GradientTape() as tape:\n",
        "        loss_value = compute_loss_fn(images, labels)\n",
        "      grads = tape.gradient(loss_value, model.trainable_variables)\n",
        "      optimizer.apply_gradients(zip(grads, model.trainable_variables))\n",
        "\n",
        "    num_correct = 0\n",
        "    num_total = 0\n",
        "\n",
        "    # range(31) bacause the num of image in test dataset\n",
        "    for _ in range(31):\n",
        "      images, labels = test_set_create.next()\n",
        "      num_total += len(labels)\n",
        "      num_correct += compute_num_correct(model, images, labels)[0]\n",
        "    auc = compute_auc(model, test_set_create)\n",
        "    #print(\"Class accuracy: \" + '{:.2f}%'.format(num_correct / num_total * 100))\n",
        "    print(\"AUC: {:.4f}\".format(auc))\n",
        "\n",
        "  # Fine-tuning phase.\n",
        "  print('Fine-tuning')\n",
        "  optimizer = tf.keras.optimizers.Adam(learning_rate=0.00001)\n",
        "  for epoch in range(1, 25 + 1):\n",
        "    print('Epoch {}: '.format(epoch), end='')\n",
        "    train_set_create.reset()\n",
        "\n",
        "    for _ in range(68):\n",
        "      images, labels = train_set_create.next()\n",
        "      with tf.GradientTape() as tape:\n",
        "        loss_value = compute_loss_fn(images, labels)\n",
        "      grads = tape.gradient(loss_value, model.trainable_variables)\n",
        "      optimizer.apply_gradients(zip(grads, model.trainable_variables))\n",
        "\n",
        "    num_correct = 0\n",
        "    num_total = 0\n",
        "    for _ in range(31):\n",
        "      images, labels = test_set_create.next()\n",
        "      num_total += len(labels)\n",
        "      num_correct += compute_num_correct(model, images, labels)[0]\n",
        "    auc = compute_auc(model, test_set_create)\n",
        "    #print(\"Class accuracy: \" + '{:.2f}%'.format(num_correct / num_total * 100))\n",
        "    print(\"AUC: {:.4f}\".format(auc))"
      ]
    },
    {
      "cell_type": "code",
      "execution_count": 18,
      "metadata": {
        "id": "yOBtEK3Z306L"
      },
      "outputs": [],
      "source": [
        "def train_and_evaluate_kd(model, compute_loss_fn, ALPHA, DISTILLATION_TEMPERATURE):\n",
        "\n",
        "  optimizer = tf.keras.optimizers.Adam(learning_rate=0.001)\n",
        "  for epoch in range(1,10 + 1):\n",
        "    print('Epoch {}: '.format(epoch), end='')\n",
        "    train_set_create.reset()\n",
        "\n",
        "    for _ in range(68):\n",
        "      images, labels=train_set_create.next()\n",
        "      with tf.GradientTape() as tape:\n",
        "        loss_value = compute_loss_fn(images,labels, ALPHA, DISTILLATION_TEMPERATURE)\n",
        "      grads = tape.gradient(loss_value, model.trainable_variables)\n",
        "      optimizer.apply_gradients(zip(grads, model.trainable_variables))\n",
        "\n",
        "    num_correct = 0\n",
        "    num_total = 0\n",
        "    for _ in range(31):\n",
        "      images, labels=test_set_create.next()\n",
        "      num_total+= len(labels)\n",
        "      correct_predictions = compute_num_correct(model, images, labels)\n",
        "      num_correct += correct_predictions[0]\n",
        "    auc = compute_auc(model, test_set_create)\n",
        "    #print(\"Class accuracy: \" + '{:.2f}%'.format(num_correct / num_total * 100))\n",
        "    print(\"AUC: {:.4f}\".format(auc))\n",
        "\n",
        "  # Fine-tuning phase.\n",
        "  print('fine tuning')\n",
        "  optimizer = tf.keras.optimizers.Adam(learning_rate=0.0001)\n",
        "\n",
        "  for epoch in range(1,25+1):\n",
        "  # Run training.\n",
        "    print('Epoch {}: '.format(epoch), end='')\n",
        "    train_set_create.reset()\n",
        "\n",
        "    for _ in range(68):\n",
        "      images, labels=train_set_create.next()\n",
        "      with tf.GradientTape() as tape:\n",
        "        loss_value = compute_loss_fn(images,labels, ALPHA, DISTILLATION_TEMPERATURE)\n",
        "      grads = tape.gradient(loss_value, model.trainable_variables)\n",
        "      optimizer.apply_gradients(zip(grads, model.trainable_variables))\n",
        "\n",
        "    num_correct = 0\n",
        "    num_total = 0\n",
        "    for _ in range(31):\n",
        "      images, labels=test_set_create.next()\n",
        "      num_total+= len(labels)\n",
        "      correct_predictions = compute_num_correct(model, images, labels)\n",
        "      num_correct += correct_predictions[0]\n",
        "    auc = compute_auc(model, test_set_create)\n",
        "    #print(\"Class accuracy: \" + '{:.2f}%'.format(num_correct / num_total * 100))\n",
        "    print(\"AUC: {:.4f}\".format(auc))"
      ]
    },
    {
      "cell_type": "code",
      "execution_count": 19,
      "metadata": {
        "id": "CaqgGJka31DZ"
      },
      "outputs": [],
      "source": [
        "def train_and_evaluate_no_kd(model, compute_loss_fn):\n",
        "\n",
        "  optimizer = tf.keras.optimizers.Adam(learning_rate=0.001)\n",
        "  for epoch in range(1,10+1):\n",
        "    print('Epoch {}: '.format(epoch), end='')\n",
        "    train_set_create.reset()\n",
        "\n",
        "    for _ in range(68):\n",
        "      images, labels=train_set_create.next()\n",
        "      with tf.GradientTape() as tape:\n",
        "        loss_value = compute_loss_fn(images,labels)\n",
        "      grads = tape.gradient(loss_value, model.trainable_variables)\n",
        "      optimizer.apply_gradients(zip(grads, model.trainable_variables))\n",
        "\n",
        "    num_correct = 0\n",
        "    num_total = 0\n",
        "    for _ in range(31):\n",
        "      images, labels=test_set_create.next()\n",
        "      num_total+= len(labels)\n",
        "      correct_predictions = compute_num_correct(model, images, labels)\n",
        "      num_correct += correct_predictions[0]\n",
        "    auc = compute_auc(model, test_set_create)\n",
        "    #print(\"Class accuracy: \" + '{:.2f}%'.format(num_correct / num_total * 100))\n",
        "    print(\"AUC: {:.4f}\".format(auc))\n",
        "\n",
        "  # Fine-tuning phase.\n",
        "  print('fine tuning')\n",
        "  optimizer = tf.keras.optimizers.Adam(learning_rate=0.0001)\n",
        "  for epoch in range(1,25+1):\n",
        "    print('Epoch {}: '.format(epoch), end='')\n",
        "    train_set_create.reset()\n",
        "\n",
        "    for _ in range(68):\n",
        "      images, labels=train_set_create.next()\n",
        "      with tf.GradientTape() as tape:\n",
        "        loss_value = compute_loss_fn(images,labels)\n",
        "      grads = tape.gradient(loss_value, model.trainable_variables)\n",
        "      optimizer.apply_gradients(zip(grads, model.trainable_variables))\n",
        "\n",
        "    num_correct = 0\n",
        "    num_total = 0\n",
        "    for _ in range(31):\n",
        "      images, labels=test_set_create.next()\n",
        "      num_total+= len(labels)\n",
        "      correct_predictions = compute_num_correct(model, images, labels)\n",
        "      num_correct += correct_predictions[0]\n",
        "    auc = compute_auc(model, test_set_create)\n",
        "    #print(\"Class accuracy: \" + '{:.2f}%'.format(num_correct / num_total * 100))\n",
        "    print(\"AUC: {:.4f}\".format(auc))"
      ]
    },
    {
      "cell_type": "code",
      "execution_count": 20,
      "metadata": {
        "id": "w-QDz8Rv31Kd"
      },
      "outputs": [],
      "source": [
        "def compute_plain_cross_entropy_loss_mobile(images, labels):\n",
        "\n",
        "  student_subclass_logits = student_mobile(images, training=True)\n",
        "  cross_entropy_loss = tf.keras.losses.CategoricalCrossentropy(from_logits=True)(labels, student_subclass_logits)\n",
        "\n",
        "  return cross_entropy_loss"
      ]
    },
    {
      "cell_type": "markdown",
      "metadata": {
        "id": "nNfvWOlg32XQ"
      },
      "source": [
        "#Training"
      ]
    },
    {
      "cell_type": "code",
      "source": [
        "train_and_evaluate_teacher(teacher_res,compute_teacher_loss) #new"
      ],
      "metadata": {
        "id": "dH6KuyE2sYtt",
        "outputId": "70212851-1449-420d-c932-1da6d83b1981",
        "colab": {
          "base_uri": "https://localhost:8080/"
        }
      },
      "execution_count": 25,
      "outputs": [
        {
          "output_type": "stream",
          "name": "stdout",
          "text": [
            "Epoch 1: AUC: 0.9021\n",
            "Epoch 2: AUC: 0.9099\n",
            "Epoch 3: AUC: 0.8957\n",
            "Epoch 4: AUC: 0.9037\n",
            "Epoch 5: AUC: 0.8912\n",
            "Epoch 6: AUC: 0.8933\n",
            "Epoch 7: AUC: 0.9035\n",
            "Epoch 8: AUC: 0.8885\n",
            "Epoch 9: AUC: 0.9010\n",
            "Epoch 10: AUC: 0.8955\n",
            "Fine-tuning\n",
            "Epoch 1: AUC: 0.9064\n",
            "Epoch 2: AUC: 0.9080\n",
            "Epoch 3: AUC: 0.9059\n",
            "Epoch 4: AUC: 0.9081\n",
            "Epoch 5: AUC: 0.9100\n",
            "Epoch 6: AUC: 0.9090\n",
            "Epoch 7: AUC: 0.9097\n",
            "Epoch 8: AUC: 0.9109\n",
            "Epoch 9: AUC: 0.9076\n",
            "Epoch 10: AUC: 0.9072\n",
            "Epoch 11: AUC: 0.9045\n",
            "Epoch 12: AUC: 0.9051\n",
            "Epoch 13: AUC: 0.9070\n",
            "Epoch 14: AUC: 0.9052\n",
            "Epoch 15: AUC: 0.9044\n",
            "Epoch 16: AUC: 0.9086\n",
            "Epoch 17: AUC: 0.9076\n",
            "Epoch 18: AUC: 0.9083\n",
            "Epoch 19: AUC: 0.9085\n",
            "Epoch 20: AUC: 0.9060\n",
            "Epoch 21: AUC: 0.9073\n",
            "Epoch 22: AUC: 0.9081\n",
            "Epoch 23: AUC: 0.9095\n",
            "Epoch 24: AUC: 0.9101\n",
            "Epoch 25: AUC: 0.9084\n"
          ]
        }
      ]
    },
    {
      "cell_type": "code",
      "source": [
        "train_and_evaluate_kd(student_mobile, compute_student_loss,0.7,8)"
      ],
      "metadata": {
        "id": "DSTo7yK124XF",
        "outputId": "d58015ac-2625-4ab4-d74a-c04dd23d4b36",
        "colab": {
          "base_uri": "https://localhost:8080/"
        }
      },
      "execution_count": 28,
      "outputs": [
        {
          "output_type": "stream",
          "name": "stdout",
          "text": [
            "Epoch 1: AUC: 0.7832\n",
            "Epoch 2: AUC: 0.7737\n",
            "Epoch 3: AUC: 0.8139\n",
            "Epoch 4: AUC: 0.8181\n",
            "Epoch 5: AUC: 0.8300\n",
            "Epoch 6: AUC: 0.8326\n",
            "Epoch 7: AUC: 0.8394\n",
            "Epoch 8: AUC: 0.8850\n",
            "Epoch 9: AUC: 0.8645\n",
            "Epoch 10: AUC: 0.8303\n",
            "fine tuning\n",
            "Epoch 1: AUC: 0.8622\n",
            "Epoch 2: AUC: 0.8883\n",
            "Epoch 3: AUC: 0.8915\n",
            "Epoch 4: AUC: 0.8918\n",
            "Epoch 5: AUC: 0.8904\n",
            "Epoch 6: AUC: 0.8874\n",
            "Epoch 7: AUC: 0.8828\n",
            "Epoch 8: AUC: 0.8875\n",
            "Epoch 9: AUC: 0.8932\n",
            "Epoch 10: AUC: 0.8887\n",
            "Epoch 11: AUC: 0.8931\n",
            "Epoch 12: AUC: 0.8978\n",
            "Epoch 13: AUC: 0.8854\n",
            "Epoch 14: AUC: 0.8923\n",
            "Epoch 15: AUC: 0.8878\n",
            "Epoch 16: AUC: 0.8930\n",
            "Epoch 17: AUC: 0.8873\n",
            "Epoch 18: AUC: 0.8902\n",
            "Epoch 19: AUC: 0.8913\n",
            "Epoch 20: AUC: 0.8807\n",
            "Epoch 21: AUC: 0.8920\n",
            "Epoch 22: AUC: 0.8937\n",
            "Epoch 23: AUC: 0.8878\n",
            "Epoch 24: AUC: 0.8902\n",
            "Epoch 25: AUC: 0.8927\n"
          ]
        }
      ]
    },
    {
      "cell_type": "code",
      "source": [
        "train_and_evaluate_no_kd(student_mobile, compute_plain_cross_entropy_loss_mobile)"
      ],
      "metadata": {
        "colab": {
          "base_uri": "https://localhost:8080/"
        },
        "id": "xSIhvcX7AWPH",
        "outputId": "c9191f9f-2f82-461a-97cd-66774327e698"
      },
      "execution_count": 29,
      "outputs": [
        {
          "output_type": "stream",
          "name": "stdout",
          "text": [
            "Epoch 1: AUC: 0.8315\n",
            "Epoch 2: AUC: 0.8576\n",
            "Epoch 3: AUC: 0.8485\n",
            "Epoch 4: AUC: 0.8068\n",
            "Epoch 5: AUC: 0.7482\n",
            "Epoch 6: AUC: 0.8227\n",
            "Epoch 7: AUC: 0.8022\n",
            "Epoch 8: AUC: 0.7689\n",
            "Epoch 9: AUC: 0.8346\n",
            "Epoch 10: AUC: 0.8270\n",
            "fine tuning\n",
            "Epoch 1: AUC: 0.8403\n",
            "Epoch 2: AUC: 0.8494\n",
            "Epoch 3: AUC: 0.8620\n",
            "Epoch 4: AUC: 0.8589\n",
            "Epoch 5: AUC: 0.8595\n",
            "Epoch 6: AUC: 0.8568\n",
            "Epoch 7: AUC: 0.8550\n",
            "Epoch 8: AUC: 0.8427\n",
            "Epoch 9: AUC: 0.8498\n",
            "Epoch 10: AUC: 0.8553\n",
            "Epoch 11: AUC: 0.8512\n",
            "Epoch 12: AUC: 0.8593\n",
            "Epoch 13: AUC: 0.8631\n",
            "Epoch 14: AUC: 0.8647\n",
            "Epoch 15: AUC: 0.8635\n",
            "Epoch 16: AUC: 0.8612\n",
            "Epoch 17: AUC: 0.8701\n",
            "Epoch 18: AUC: 0.8770\n",
            "Epoch 19: AUC: 0.8688\n",
            "Epoch 20: AUC: 0.8710\n",
            "Epoch 21: AUC: 0.8693\n",
            "Epoch 22: AUC: 0.8659\n",
            "Epoch 23: AUC: 0.8647\n",
            "Epoch 24: AUC: 0.8649\n",
            "Epoch 25: AUC: 0.8637\n"
          ]
        }
      ]
    },
    {
      "cell_type": "markdown",
      "metadata": {
        "id": "UO3xb4b34ra_"
      },
      "source": [
        "## Student test accuracy vs temperature\n"
      ]
    },
    {
      "cell_type": "code",
      "execution_count": null,
      "metadata": {
        "colab": {
          "base_uri": "https://localhost:8080/"
        },
        "id": "NDeqtnMpENJ0",
        "outputId": "4984b301-ffd0-45de-b207-ba18a7b0843c"
      },
      "outputs": [
        {
          "name": "stdout",
          "output_type": "stream",
          "text": [
            "temp= 1\n",
            "Epoch 1: "
          ]
        },
        {
          "name": "stderr",
          "output_type": "stream",
          "text": [
            "WARNING:tensorflow:5 out of the last 5 calls to <function _BaseOptimizer._update_step_xla at 0x79391ffb20e0> triggered tf.function retracing. Tracing is expensive and the excessive number of tracings could be due to (1) creating @tf.function repeatedly in a loop, (2) passing tensors with different shapes, (3) passing Python objects instead of tensors. For (1), please define your @tf.function outside of the loop. For (2), @tf.function has reduce_retracing=True option that can avoid unnecessary retracing. For (3), please refer to https://www.tensorflow.org/guide/function#controlling_retracing and https://www.tensorflow.org/api_docs/python/tf/function for  more details.\n",
            "WARNING:tensorflow:6 out of the last 6 calls to <function _BaseOptimizer._update_step_xla at 0x79391ffb20e0> triggered tf.function retracing. Tracing is expensive and the excessive number of tracings could be due to (1) creating @tf.function repeatedly in a loop, (2) passing tensors with different shapes, (3) passing Python objects instead of tensors. For (1), please define your @tf.function outside of the loop. For (2), @tf.function has reduce_retracing=True option that can avoid unnecessary retracing. For (3), please refer to https://www.tensorflow.org/guide/function#controlling_retracing and https://www.tensorflow.org/api_docs/python/tf/function for  more details.\n"
          ]
        },
        {
          "name": "stdout",
          "output_type": "stream",
          "text": [
            "Class accuracy: 63.05%\n",
            "AUC: 0.6615\n",
            "Epoch 2: Class accuracy: 52.71%\n",
            "AUC: 0.6822\n",
            "Epoch 3: Class accuracy: 42.89%\n",
            "AUC: 0.6396\n",
            "Epoch 4: Class accuracy: 66.22%\n",
            "AUC: 0.7271\n",
            "Epoch 5: Class accuracy: 60.39%\n",
            "AUC: 0.6119\n",
            "Epoch 6: Class accuracy: 66.22%\n",
            "AUC: 0.7052\n",
            "Epoch 7: Class accuracy: 68.78%\n",
            "AUC: 0.7860\n",
            "Epoch 8: Class accuracy: 75.44%\n",
            "AUC: 0.8108\n",
            "Epoch 9: Class accuracy: 76.66%\n",
            "AUC: 0.8172\n",
            "Epoch 10: Class accuracy: 79.43%\n",
            "AUC: 0.8475\n",
            "fine tuning\n",
            "Epoch 1: Class accuracy: 75.44%\n",
            "AUC: 0.8192\n",
            "Epoch 2: Class accuracy: 74.21%\n",
            "AUC: 0.8139\n",
            "Epoch 3: Class accuracy: 75.84%\n",
            "AUC: 0.8233\n",
            "Epoch 4: Class accuracy: 77.89%\n",
            "AUC: 0.8067\n",
            "Epoch 5: Class accuracy: 75.13%\n",
            "AUC: 0.8159\n",
            "Epoch 6: Class accuracy: 73.08%\n",
            "AUC: 0.7701\n",
            "Epoch 7: Class accuracy: 72.98%\n",
            "AUC: 0.7871\n",
            "Epoch 8: Class accuracy: 70.52%\n",
            "AUC: 0.7482\n",
            "Epoch 9: Class accuracy: 75.33%\n",
            "AUC: 0.7848\n",
            "Epoch 10: Class accuracy: 72.98%\n",
            "AUC: 0.8155\n",
            "Epoch 11: Class accuracy: 76.05%\n",
            "AUC: 0.8225\n",
            "Epoch 12: Class accuracy: 80.04%\n",
            "AUC: 0.8410\n",
            "Epoch 13: Class accuracy: 80.66%\n",
            "AUC: 0.8694\n",
            "Epoch 14: Class accuracy: 79.84%\n",
            "AUC: 0.8399\n",
            "Epoch 15: Class accuracy: 77.79%\n",
            "AUC: 0.8320\n",
            "Epoch 16: Class accuracy: 77.89%\n",
            "AUC: 0.8343\n",
            "Epoch 17: Class accuracy: 80.04%\n",
            "AUC: 0.8524\n",
            "Epoch 18: Class accuracy: 79.22%\n",
            "AUC: 0.8510\n",
            "Epoch 19: Class accuracy: 77.69%\n",
            "AUC: 0.8389\n",
            "Epoch 20: Class accuracy: 77.58%\n",
            "AUC: 0.8363\n",
            "Epoch 21: Class accuracy: 76.46%\n",
            "AUC: 0.8250\n",
            "Epoch 22: Class accuracy: 77.18%\n",
            "AUC: 0.8300\n",
            "Epoch 23: Class accuracy: 78.30%\n",
            "AUC: 0.8133\n",
            "Epoch 24: Class accuracy: 81.88%\n",
            "AUC: 0.8575\n",
            "Epoch 25: Class accuracy: 81.27%\n",
            "AUC: 0.8604\n",
            "31/31 [==============================] - 5s 113ms/step\n",
            "Evaluating the student with KD\n",
            "AUC:  0.8603750225103547\n",
            "temp= 2\n",
            "Epoch 1: Class accuracy: 38.28%\n",
            "AUC: 0.7360\n",
            "Epoch 2: Class accuracy: 37.46%\n",
            "AUC: 0.7695\n",
            "Epoch 3: Class accuracy: 41.15%\n",
            "AUC: 0.8109\n",
            "Epoch 4: Class accuracy: 51.79%\n",
            "AUC: 0.8496\n",
            "Epoch 5: Class accuracy: 63.56%\n",
            "AUC: 0.8480\n",
            "Epoch 6: Class accuracy: 62.23%\n",
            "AUC: 0.8583\n",
            "Epoch 7: Class accuracy: 52.61%\n",
            "AUC: 0.8569\n",
            "Epoch 8: Class accuracy: 46.98%\n",
            "AUC: 0.8546\n",
            "Epoch 9: Class accuracy: 49.74%\n",
            "AUC: 0.8671\n",
            "Epoch 10: Class accuracy: 63.05%\n",
            "AUC: 0.8531\n",
            "fine tuning\n",
            "Epoch 1: Class accuracy: 66.12%\n",
            "AUC: 0.8706\n",
            "Epoch 2: Class accuracy: 66.84%\n",
            "AUC: 0.8739\n",
            "Epoch 3: Class accuracy: 70.01%\n",
            "AUC: 0.8643\n",
            "Epoch 4: Class accuracy: 71.14%\n",
            "AUC: 0.8622\n",
            "Epoch 5: Class accuracy: 71.44%\n",
            "AUC: 0.8653\n",
            "Epoch 6: Class accuracy: 69.91%\n",
            "AUC: 0.8767\n",
            "Epoch 7: Class accuracy: 75.95%\n",
            "AUC: 0.8700\n",
            "Epoch 8: Class accuracy: 73.80%\n",
            "AUC: 0.8671\n",
            "Epoch 9: Class accuracy: 77.89%\n",
            "AUC: 0.8706\n",
            "Epoch 10: Class accuracy: 78.40%\n",
            "AUC: 0.8606\n",
            "Epoch 11: Class accuracy: 74.10%\n",
            "AUC: 0.8542\n",
            "Epoch 12: Class accuracy: 80.86%\n",
            "AUC: 0.8656\n",
            "Epoch 13: Class accuracy: 80.25%\n",
            "AUC: 0.8703\n",
            "Epoch 14: Class accuracy: 81.17%\n",
            "AUC: 0.8730\n",
            "Epoch 15: Class accuracy: 76.56%\n",
            "AUC: 0.8599\n",
            "Epoch 16: Class accuracy: 81.47%\n",
            "AUC: 0.8702\n",
            "Epoch 17: Class accuracy: 72.36%\n",
            "AUC: 0.8546\n",
            "Epoch 18: Class accuracy: 81.78%\n",
            "AUC: 0.8657\n",
            "Epoch 19: Class accuracy: 80.96%\n",
            "AUC: 0.8696\n",
            "Epoch 20: Class accuracy: 75.84%\n",
            "AUC: 0.8675\n",
            "Epoch 21: Class accuracy: 80.76%\n",
            "AUC: 0.8622\n",
            "Epoch 22: Class accuracy: 81.17%\n",
            "AUC: 0.8799\n",
            "Epoch 23: Class accuracy: 79.43%\n",
            "AUC: 0.8819\n",
            "Epoch 24: Class accuracy: 77.58%\n",
            "AUC: 0.8793\n",
            "Epoch 25: Class accuracy: 80.25%\n",
            "AUC: 0.8692\n",
            "31/31 [==============================] - 4s 107ms/step\n",
            "Evaluating the student with KD\n",
            "AUC:  0.8692441022870521\n",
            "temp= 4\n",
            "Epoch 1: Class accuracy: 67.45%\n",
            "AUC: 0.7532\n",
            "Epoch 2: Class accuracy: 78.61%\n",
            "AUC: 0.8278\n",
            "Epoch 3: Class accuracy: 74.51%\n",
            "AUC: 0.8425\n",
            "Epoch 4: Class accuracy: 79.02%\n",
            "AUC: 0.8592\n",
            "Epoch 5: Class accuracy: 75.74%\n",
            "AUC: 0.8261\n",
            "Epoch 6: Class accuracy: 73.49%\n",
            "AUC: 0.8234\n",
            "Epoch 7: Class accuracy: 72.57%\n",
            "AUC: 0.8201\n",
            "Epoch 8: Class accuracy: 59.47%\n",
            "AUC: 0.8494\n",
            "Epoch 9: Class accuracy: 68.47%\n",
            "AUC: 0.8233\n",
            "Epoch 10: Class accuracy: 58.96%\n",
            "AUC: 0.8229\n",
            "fine tuning\n",
            "Epoch 1: Class accuracy: 57.93%\n",
            "AUC: 0.8440\n",
            "Epoch 2: Class accuracy: 58.03%\n",
            "AUC: 0.8501\n",
            "Epoch 3: Class accuracy: 58.55%\n",
            "AUC: 0.8535\n",
            "Epoch 4: Class accuracy: 63.25%\n",
            "AUC: 0.8489\n",
            "Epoch 5: Class accuracy: 62.95%\n",
            "AUC: 0.8513\n",
            "Epoch 6: Class accuracy: 63.36%\n",
            "AUC: 0.8612\n",
            "Epoch 7: Class accuracy: 66.33%\n",
            "AUC: 0.8643\n",
            "Epoch 8: Class accuracy: 67.04%\n",
            "AUC: 0.8621\n",
            "Epoch 9: Class accuracy: 68.68%\n",
            "AUC: 0.8661\n",
            "Epoch 10: Class accuracy: 68.78%\n",
            "AUC: 0.8683\n",
            "Epoch 11: Class accuracy: 70.11%\n",
            "AUC: 0.8683\n",
            "Epoch 12: Class accuracy: 70.93%\n",
            "AUC: 0.8703\n",
            "Epoch 13: Class accuracy: 71.34%\n",
            "AUC: 0.8707\n",
            "Epoch 14: Class accuracy: 73.08%\n",
            "AUC: 0.8691\n",
            "Epoch 15: Class accuracy: 73.39%\n",
            "AUC: 0.8727\n",
            "Epoch 16: Class accuracy: 75.54%\n",
            "AUC: 0.8636\n",
            "Epoch 17: Class accuracy: 76.36%\n",
            "AUC: 0.8674\n",
            "Epoch 18: Class accuracy: 74.10%\n",
            "AUC: 0.8738\n",
            "Epoch 19: Class accuracy: 75.84%\n",
            "AUC: 0.8744\n",
            "Epoch 20: Class accuracy: 77.07%\n",
            "AUC: 0.8735\n",
            "Epoch 21: Class accuracy: 76.25%\n",
            "AUC: 0.8723\n",
            "Epoch 22: Class accuracy: 77.28%\n",
            "AUC: 0.8741\n",
            "Epoch 23: Class accuracy: 75.64%\n",
            "AUC: 0.8750\n",
            "Epoch 24: Class accuracy: 76.46%\n",
            "AUC: 0.8730\n",
            "Epoch 25: Class accuracy: 76.46%\n",
            "AUC: 0.8752\n",
            "31/31 [==============================] - 4s 101ms/step\n",
            "Evaluating the student with KD\n",
            "AUC:  0.8751935890509634\n",
            "temp= 16\n",
            "Epoch 1: Class accuracy: 36.44%\n",
            "AUC: 0.5941\n",
            "Epoch 2: Class accuracy: 47.49%\n",
            "AUC: 0.7585\n",
            "Epoch 3: Class accuracy: 53.43%\n",
            "AUC: 0.7086\n",
            "Epoch 4: Class accuracy: 56.50%\n",
            "AUC: 0.7730\n",
            "Epoch 5: Class accuracy: 56.60%\n",
            "AUC: 0.7993\n",
            "Epoch 6: Class accuracy: 57.63%\n",
            "AUC: 0.7849\n",
            "Epoch 7: Class accuracy: 59.67%\n",
            "AUC: 0.8256\n",
            "Epoch 8: Class accuracy: 67.86%\n",
            "AUC: 0.8624\n",
            "Epoch 9: Class accuracy: 67.25%\n",
            "AUC: 0.8561\n",
            "Epoch 10: Class accuracy: 66.84%\n",
            "AUC: 0.8405\n",
            "fine tuning\n",
            "Epoch 1: Class accuracy: 68.68%\n",
            "AUC: 0.8403\n",
            "Epoch 2: Class accuracy: 68.58%\n",
            "AUC: 0.8527\n",
            "Epoch 3: Class accuracy: 70.62%\n",
            "AUC: 0.8528\n",
            "Epoch 4: Class accuracy: 71.44%\n",
            "AUC: 0.8552\n",
            "Epoch 5: Class accuracy: 73.08%\n",
            "AUC: 0.8567\n",
            "Epoch 6: Class accuracy: 74.41%\n",
            "AUC: 0.8534\n",
            "Epoch 7: Class accuracy: 73.29%\n",
            "AUC: 0.8556\n",
            "Epoch 8: Class accuracy: 74.62%\n",
            "AUC: 0.8519\n",
            "Epoch 9: Class accuracy: 75.03%\n",
            "AUC: 0.8630\n",
            "Epoch 10: Class accuracy: 77.28%\n",
            "AUC: 0.8579\n",
            "Epoch 11: Class accuracy: 77.79%\n",
            "AUC: 0.8492\n",
            "Epoch 12: Class accuracy: 76.25%\n",
            "AUC: 0.8444\n",
            "Epoch 13: Class accuracy: 77.18%\n",
            "AUC: 0.8387\n",
            "Epoch 14: Class accuracy: 75.44%\n",
            "AUC: 0.8466\n",
            "Epoch 15: Class accuracy: 76.15%\n",
            "AUC: 0.8538\n",
            "Epoch 16: Class accuracy: 76.36%\n",
            "AUC: 0.8519\n",
            "Epoch 17: Class accuracy: 76.15%\n",
            "AUC: 0.8608\n",
            "Epoch 18: Class accuracy: 77.38%\n",
            "AUC: 0.8557\n",
            "Epoch 19: Class accuracy: 77.58%\n",
            "AUC: 0.8571\n",
            "Epoch 20: Class accuracy: 78.61%\n",
            "AUC: 0.8498\n",
            "Epoch 21: Class accuracy: 79.22%\n",
            "AUC: 0.8486\n",
            "Epoch 22: Class accuracy: 76.77%\n",
            "AUC: 0.8486\n",
            "Epoch 23: Class accuracy: 74.72%\n",
            "AUC: 0.8575\n",
            "Epoch 24: Class accuracy: 75.44%\n",
            "AUC: 0.8561\n",
            "Epoch 25: Class accuracy: 75.23%\n",
            "AUC: 0.8581\n",
            "31/31 [==============================] - 4s 111ms/step\n",
            "Evaluating the student with KD\n",
            "AUC:  0.8580722132180802\n",
            "temp= 32\n",
            "Epoch 1: Class accuracy: 55.99%\n",
            "AUC: 0.8685\n",
            "Epoch 2: Class accuracy: 60.49%\n",
            "AUC: 0.8528\n",
            "Epoch 3: Class accuracy: 57.11%\n",
            "AUC: 0.7762\n",
            "Epoch 4: Class accuracy: 47.39%\n",
            "AUC: 0.7017\n",
            "Epoch 5: Class accuracy: 59.98%\n",
            "AUC: 0.7495\n",
            "Epoch 6: Class accuracy: 58.75%\n",
            "AUC: 0.8578\n",
            "Epoch 7: Class accuracy: 62.23%\n",
            "AUC: 0.8491\n",
            "Epoch 8: Class accuracy: 55.17%\n",
            "AUC: 0.8297\n",
            "Epoch 9: Class accuracy: 52.51%\n",
            "AUC: 0.8074\n",
            "Epoch 10: Class accuracy: 54.86%\n",
            "AUC: 0.8552\n",
            "fine tuning\n",
            "Epoch 1: Class accuracy: 58.34%\n",
            "AUC: 0.8667\n",
            "Epoch 2: Class accuracy: 59.16%\n",
            "AUC: 0.8685\n",
            "Epoch 3: Class accuracy: 60.49%\n",
            "AUC: 0.8677\n",
            "Epoch 4: Class accuracy: 62.23%\n",
            "AUC: 0.8669\n",
            "Epoch 5: Class accuracy: 64.48%\n",
            "AUC: 0.8619\n",
            "Epoch 6: Class accuracy: 64.69%\n",
            "AUC: 0.8642\n",
            "Epoch 7: Class accuracy: 66.43%\n",
            "AUC: 0.8574\n",
            "Epoch 8: Class accuracy: 68.37%\n",
            "AUC: 0.8544\n",
            "Epoch 9: Class accuracy: 71.55%\n",
            "AUC: 0.8538\n",
            "Epoch 10: Class accuracy: 73.08%\n",
            "AUC: 0.8544\n",
            "Epoch 11: Class accuracy: 73.69%\n",
            "AUC: 0.8473\n",
            "Epoch 12: Class accuracy: 73.90%\n",
            "AUC: 0.8509\n",
            "Epoch 13: Class accuracy: 74.41%\n",
            "AUC: 0.8520\n",
            "Epoch 14: Class accuracy: 75.03%\n",
            "AUC: 0.8618\n",
            "Epoch 15: Class accuracy: 73.90%\n",
            "AUC: 0.8567\n",
            "Epoch 16: Class accuracy: 71.34%\n",
            "AUC: 0.8615\n",
            "Epoch 17: Class accuracy: 74.82%\n",
            "AUC: 0.8581\n",
            "Epoch 18: Class accuracy: 75.13%\n",
            "AUC: 0.8572\n",
            "Epoch 19: Class accuracy: 71.55%\n",
            "AUC: 0.8596\n",
            "Epoch 20: Class accuracy: 69.60%\n",
            "AUC: 0.8610\n",
            "Epoch 21: Class accuracy: 70.21%\n",
            "AUC: 0.8575\n",
            "Epoch 22: Class accuracy: 72.16%\n",
            "AUC: 0.8569\n",
            "Epoch 23: Class accuracy: 71.85%\n",
            "AUC: 0.8605\n",
            "Epoch 24: Class accuracy: 74.21%\n",
            "AUC: 0.8581\n",
            "Epoch 25: Class accuracy: 74.00%\n",
            "AUC: 0.8511\n",
            "31/31 [==============================] - 5s 118ms/step\n",
            "Evaluating the student with KD\n",
            "AUC:  0.8510669908157752\n",
            "temp= 64\n",
            "Epoch 1: Class accuracy: 75.64%\n",
            "AUC: 0.8723\n",
            "Epoch 2: Class accuracy: 68.99%\n",
            "AUC: 0.8718\n",
            "Epoch 3: Class accuracy: 68.27%\n",
            "AUC: 0.8476\n",
            "Epoch 4: Class accuracy: 76.77%\n",
            "AUC: 0.8027\n",
            "Epoch 5: Class accuracy: 79.63%\n",
            "AUC: 0.8284\n",
            "Epoch 6: Class accuracy: 70.83%\n",
            "AUC: 0.8342\n",
            "Epoch 7: Class accuracy: 78.71%\n",
            "AUC: 0.8189\n",
            "Epoch 8: Class accuracy: 72.77%\n",
            "AUC: 0.8109\n",
            "Epoch 9: Class accuracy: 74.62%\n",
            "AUC: 0.8384\n",
            "Epoch 10: Class accuracy: 72.06%\n",
            "AUC: 0.8474\n",
            "fine tuning\n",
            "Epoch 1: Class accuracy: 72.06%\n",
            "AUC: 0.8493\n",
            "Epoch 2: Class accuracy: 72.57%\n",
            "AUC: 0.8478\n",
            "Epoch 3: Class accuracy: 71.44%\n",
            "AUC: 0.8459\n",
            "Epoch 4: Class accuracy: 70.73%\n",
            "AUC: 0.8545\n",
            "Epoch 5: Class accuracy: 70.73%\n",
            "AUC: 0.8586\n",
            "Epoch 6: Class accuracy: 69.29%\n",
            "AUC: 0.8599\n",
            "Epoch 7: Class accuracy: 68.78%\n",
            "AUC: 0.8589\n",
            "Epoch 8: Class accuracy: 70.52%\n",
            "AUC: 0.8571\n",
            "Epoch 9: Class accuracy: 71.85%\n",
            "AUC: 0.8568\n",
            "Epoch 10: Class accuracy: 71.75%\n",
            "AUC: 0.8580\n",
            "Epoch 11: Class accuracy: 71.85%\n",
            "AUC: 0.8554\n",
            "Epoch 12: Class accuracy: 72.98%\n",
            "AUC: 0.8562\n",
            "Epoch 13: Class accuracy: 73.80%\n",
            "AUC: 0.8535\n",
            "Epoch 14: Class accuracy: 73.18%\n",
            "AUC: 0.8544\n",
            "Epoch 15: Class accuracy: 73.39%\n",
            "AUC: 0.8553\n",
            "Epoch 16: Class accuracy: 74.10%\n",
            "AUC: 0.8522\n",
            "Epoch 17: Class accuracy: 73.29%\n",
            "AUC: 0.8530\n",
            "Epoch 18: Class accuracy: 74.10%\n",
            "AUC: 0.8586\n",
            "Epoch 19: Class accuracy: 72.57%\n",
            "AUC: 0.8538\n",
            "Epoch 20: Class accuracy: 73.49%\n",
            "AUC: 0.8568\n",
            "Epoch 21: Class accuracy: 72.67%\n",
            "AUC: 0.8554\n",
            "Epoch 22: Class accuracy: 72.36%\n",
            "AUC: 0.8519\n",
            "Epoch 23: Class accuracy: 72.98%\n",
            "AUC: 0.8516\n",
            "Epoch 24: Class accuracy: 73.69%\n",
            "AUC: 0.8507\n",
            "Epoch 25: Class accuracy: 73.08%\n",
            "AUC: 0.8497\n",
            "31/31 [==============================] - 5s 117ms/step\n",
            "Evaluating the student with KD\n",
            "AUC:  0.8497343778137944\n",
            "Temperature 1 - AUC: 0.8603750225103547\n",
            "Temperature 2 - AUC: 0.8692441022870521\n",
            "Temperature 4 - AUC: 0.8751935890509634\n",
            "Temperature 16 - AUC: 0.8580722132180802\n",
            "Temperature 32 - AUC: 0.8510669908157752\n",
            "Temperature 64 - AUC: 0.8497343778137944\n"
          ]
        }
      ],
      "source": [
        "temps = [1, 2, 4, 16, 32, 64]\n",
        "ALPHA = 0.5\n",
        "auc_scores = []\n",
        "\n",
        "for i in range(6):\n",
        "\n",
        "    print('temp=', temps[i])\n",
        "    DISTILLATION_TEMPERATURE = temps[i]\n",
        "    train_and_evaluate_kd(student_mobile, compute_student_loss, ALPHA, DISTILLATION_TEMPERATURE)\n",
        "    y_pred_o = student_mobile.predict(test_set_create, verbose=1)\n",
        "\n",
        "    # Calculate AUC\n",
        "    auc = compute_auc(student_mobile, test_set_create)\n",
        "    auc_scores.append(auc)\n",
        "    print(\"Evaluating the student with KD\")\n",
        "    print('AUC: ', auc)\n",
        "\n",
        "for i, temp in enumerate(temps):\n",
        "    print(f'Temperature {temp} - AUC: {auc_scores[i]}')"
      ]
    },
    {
      "cell_type": "code",
      "execution_count": null,
      "metadata": {
        "colab": {
          "base_uri": "https://localhost:8080/",
          "height": 472
        },
        "id": "bQK_qE5x5Cc8",
        "outputId": "7be6dd8d-3202-409e-b55a-1e58e5f00cf4"
      },
      "outputs": [
        {
          "data": {
            "image/png": "[encoded data removed]",
            "text/plain": [
              "<Figure size 640x480 with 1 Axes>"
            ]
          },
          "metadata": {},
          "output_type": "display_data"
        }
      ],
      "source": [
        "# Plotting AUC vs. temperature curve\n",
        "plt.plot(temps, auc_scores)\n",
        "plt.title('AUC vs. Temperature')\n",
        "plt.xlabel('Temperature')\n",
        "plt.ylabel('AUC')\n",
        "plt.show()"
      ]
    },
    {
      "cell_type": "markdown",
      "metadata": {
        "id": "vibmPsehQBf6"
      },
      "source": [
        "\n",
        "##Comparing the teacher and student model (number of of parameters and FLOPs)"
      ]
    },
    {
      "cell_type": "code",
      "execution_count": null,
      "metadata": {
        "id": "OVPpik7vPq1D"
      },
      "outputs": [],
      "source": [
        "from tensorflow.python.profiler.model_analyzer import profile\n",
        "from tensorflow.python.profiler.option_builder import ProfileOptionBuilder\n",
        "\n",
        "def get_flops(model):\n",
        "\n",
        "    @tf.function(input_signature=[tf.TensorSpec(shape=(1,) + model.input_shape[1:])])\n",
        "    def forward_pass(inputs):\n",
        "        return model(inputs)\n",
        "\n",
        "    graph_info = profile(forward_pass.get_concrete_function().graph,\n",
        "                        options=ProfileOptionBuilder.float_operation())\n",
        "\n",
        "    # Calculate FLOPs (floating-point operations)\n",
        "    flops = graph_info.total_float_ops // 2\n",
        "\n",
        "    # Calculate the number of model parameters\n",
        "    total_params = model.count_params()\n",
        "\n",
        "    return flops, total_params"
      ]
    },
    {
      "cell_type": "code",
      "execution_count": null,
      "metadata": {
        "colab": {
          "base_uri": "https://localhost:8080/"
        },
        "id": "VnvzjlisPxkl",
        "outputId": "08b0ddf8-db89-4413-b0f2-a8f868ed16ac"
      },
      "outputs": [
        {
          "output_type": "stream",
          "name": "stderr",
          "text": [
            "WARNING:tensorflow:From /usr/local/lib/python3.10/dist-packages/tensorflow/python/ops/nn_ops.py:5250: tensor_shape_from_node_def_name (from tensorflow.python.framework.graph_util_impl) is deprecated and will be removed in a future version.\n",
            "Instructions for updating:\n",
            "This API was designed for TensorFlow v1. See https://www.tensorflow.org/guide/migrate for instructions on how to migrate your code to TensorFlow v2.\n"
          ]
        },
        {
          "output_type": "stream",
          "name": "stdout",
          "text": [
            "Flops for teacher model: 3,484,727,297\n",
            "Total Parameters for teacher model: 23,568,898\n"
          ]
        }
      ],
      "source": [
        "flops_teacher, teacher_totalParams = get_flops(teacher_res)\n",
        "print('Flops for teacher model: {:,}'.format(flops_teacher))\n",
        "print('Total Parameters for teacher model: {:,}'.format(teacher_totalParams))"
      ]
    },
    {
      "cell_type": "code",
      "execution_count": null,
      "metadata": {
        "colab": {
          "base_uri": "https://localhost:8080/"
        },
        "id": "XzZSM4IIP57Y",
        "outputId": "8af7db7d-b433-4668-f9bc-cac490624f84"
      },
      "outputs": [
        {
          "output_type": "stream",
          "name": "stdout",
          "text": [
            "Flops for student model: 299,496,833\n",
            "Total Parameters for student model: 2,260,546\n"
          ]
        }
      ],
      "source": [
        "flops_student, student_totalParams = get_flops(student_mobile)\n",
        "print('Flops for student model: {:,}'.format(flops_student))\n",
        "print('Total Parameters for student model: {:,}'.format(student_totalParams))"
      ]
    },
    {
      "cell_type": "markdown",
      "metadata": {
        "id": "x6vPool_NO9X"
      },
      "source": [
        "#Implementing the state-of-the-art KD algorithm--Improved Knowledge Distillation via Teacher Assistant"
      ]
    },
    {
      "cell_type": "code",
      "execution_count": null,
      "metadata": {
        "colab": {
          "base_uri": "https://localhost:8080/"
        },
        "id": "MGi3csF7MEd3",
        "outputId": "80a5e422-0147-4116-9259-b1208a631858"
      },
      "outputs": [
        {
          "output_type": "stream",
          "name": "stdout",
          "text": [
            "Downloading data from https://storage.googleapis.com/keras-applications/efficientnetb0_notop.h5\n",
            "16705208/16705208 [==============================] - 0s 0us/step\n"
          ]
        }
      ],
      "source": [
        "efficientnet = tf.keras.applications.EfficientNetB0(\n",
        "    include_top=False,\n",
        "    weights=\"imagenet\",\n",
        "    input_tensor=None,\n",
        "    input_shape=(224, 224, 3),\n",
        "    pooling='avg'\n",
        ")"
      ]
    },
    {
      "cell_type": "code",
      "execution_count": null,
      "metadata": {
        "colab": {
          "base_uri": "https://localhost:8080/"
        },
        "id": "JsX5FvbJNDs5",
        "outputId": "890147ff-001a-4afe-9601-edd872fea70f"
      },
      "outputs": [
        {
          "output_type": "stream",
          "name": "stdout",
          "text": [
            "frozen 220 layer\n"
          ]
        }
      ],
      "source": [
        "freeze_layers = 220\n",
        "for layer in efficientnet.layers[:freeze_layers]:\n",
        "    layer.trainable = False\n",
        "print(f\"frozen {freeze_layers} layer\")"
      ]
    },
    {
      "cell_type": "code",
      "execution_count": null,
      "metadata": {
        "colab": {
          "base_uri": "https://localhost:8080/"
        },
        "id": "HPRnQPcRNl6H",
        "outputId": "2ab77cec-452c-4b24-ef20-c962cd32d62c"
      },
      "outputs": [
        {
          "output_type": "stream",
          "name": "stdout",
          "text": [
            "layer 1 False,  input_3\n",
            "layer 2 False,  rescaling\n",
            "layer 3 False,  normalization\n",
            "layer 4 False,  rescaling_1\n",
            "layer 5 False,  stem_conv_pad\n",
            "layer 6 False,  stem_conv\n",
            "layer 7 False,  stem_bn\n",
            "layer 8 False,  stem_activation\n",
            "layer 9 False,  block1a_dwconv\n",
            "layer 10 False,  block1a_bn\n",
            "layer 11 False,  block1a_activat\n",
            "layer 12 False,  block1a_se_sque\n",
            "layer 13 False,  block1a_se_resh\n",
            "layer 14 False,  block1a_se_redu\n",
            "layer 15 False,  block1a_se_expa\n",
            "layer 16 False,  block1a_se_exci\n",
            "layer 17 False,  block1a_project\n",
            "layer 18 False,  block1a_project\n",
            "layer 19 False,  block2a_expand_\n",
            "layer 20 False,  block2a_expand_\n",
            "layer 21 False,  block2a_expand_\n",
            "layer 22 False,  block2a_dwconv_\n",
            "layer 23 False,  block2a_dwconv\n",
            "layer 24 False,  block2a_bn\n",
            "layer 25 False,  block2a_activat\n",
            "layer 26 False,  block2a_se_sque\n",
            "layer 27 False,  block2a_se_resh\n",
            "layer 28 False,  block2a_se_redu\n",
            "layer 29 False,  block2a_se_expa\n",
            "layer 30 False,  block2a_se_exci\n",
            "layer 31 False,  block2a_project\n",
            "layer 32 False,  block2a_project\n",
            "layer 33 False,  block2b_expand_\n",
            "layer 34 False,  block2b_expand_\n",
            "layer 35 False,  block2b_expand_\n",
            "layer 36 False,  block2b_dwconv\n",
            "layer 37 False,  block2b_bn\n",
            "layer 38 False,  block2b_activat\n",
            "layer 39 False,  block2b_se_sque\n",
            "layer 40 False,  block2b_se_resh\n",
            "layer 41 False,  block2b_se_redu\n",
            "layer 42 False,  block2b_se_expa\n",
            "layer 43 False,  block2b_se_exci\n",
            "layer 44 False,  block2b_project\n",
            "layer 45 False,  block2b_project\n",
            "layer 46 False,  block2b_drop\n",
            "layer 47 False,  block2b_add\n",
            "layer 48 False,  block3a_expand_\n",
            "layer 49 False,  block3a_expand_\n",
            "layer 50 False,  block3a_expand_\n",
            "layer 51 False,  block3a_dwconv_\n",
            "layer 52 False,  block3a_dwconv\n",
            "layer 53 False,  block3a_bn\n",
            "layer 54 False,  block3a_activat\n",
            "layer 55 False,  block3a_se_sque\n",
            "layer 56 False,  block3a_se_resh\n",
            "layer 57 False,  block3a_se_redu\n",
            "layer 58 False,  block3a_se_expa\n",
            "layer 59 False,  block3a_se_exci\n",
            "layer 60 False,  block3a_project\n",
            "layer 61 False,  block3a_project\n",
            "layer 62 False,  block3b_expand_\n",
            "layer 63 False,  block3b_expand_\n",
            "layer 64 False,  block3b_expand_\n",
            "layer 65 False,  block3b_dwconv\n",
            "layer 66 False,  block3b_bn\n",
            "layer 67 False,  block3b_activat\n",
            "layer 68 False,  block3b_se_sque\n",
            "layer 69 False,  block3b_se_resh\n",
            "layer 70 False,  block3b_se_redu\n",
            "layer 71 False,  block3b_se_expa\n",
            "layer 72 False,  block3b_se_exci\n",
            "layer 73 False,  block3b_project\n",
            "layer 74 False,  block3b_project\n",
            "layer 75 False,  block3b_drop\n",
            "layer 76 False,  block3b_add\n",
            "layer 77 False,  block4a_expand_\n",
            "layer 78 False,  block4a_expand_\n",
            "layer 79 False,  block4a_expand_\n",
            "layer 80 False,  block4a_dwconv_\n",
            "layer 81 False,  block4a_dwconv\n",
            "layer 82 False,  block4a_bn\n",
            "layer 83 False,  block4a_activat\n",
            "layer 84 False,  block4a_se_sque\n",
            "layer 85 False,  block4a_se_resh\n",
            "layer 86 False,  block4a_se_redu\n",
            "layer 87 False,  block4a_se_expa\n",
            "layer 88 False,  block4a_se_exci\n",
            "layer 89 False,  block4a_project\n",
            "layer 90 False,  block4a_project\n",
            "layer 91 False,  block4b_expand_\n",
            "layer 92 False,  block4b_expand_\n",
            "layer 93 False,  block4b_expand_\n",
            "layer 94 False,  block4b_dwconv\n",
            "layer 95 False,  block4b_bn\n",
            "layer 96 False,  block4b_activat\n",
            "layer 97 False,  block4b_se_sque\n",
            "layer 98 False,  block4b_se_resh\n",
            "layer 99 False,  block4b_se_redu\n",
            "layer 100 False,  block4b_se_expa\n",
            "layer 101 False,  block4b_se_exci\n",
            "layer 102 False,  block4b_project\n",
            "layer 103 False,  block4b_project\n",
            "layer 104 False,  block4b_drop\n",
            "layer 105 False,  block4b_add\n",
            "layer 106 False,  block4c_expand_\n",
            "layer 107 False,  block4c_expand_\n",
            "layer 108 False,  block4c_expand_\n",
            "layer 109 False,  block4c_dwconv\n",
            "layer 110 False,  block4c_bn\n",
            "layer 111 False,  block4c_activat\n",
            "layer 112 False,  block4c_se_sque\n",
            "layer 113 False,  block4c_se_resh\n",
            "layer 114 False,  block4c_se_redu\n",
            "layer 115 False,  block4c_se_expa\n",
            "layer 116 False,  block4c_se_exci\n",
            "layer 117 False,  block4c_project\n",
            "layer 118 False,  block4c_project\n",
            "layer 119 False,  block4c_drop\n",
            "layer 120 False,  block4c_add\n",
            "layer 121 False,  block5a_expand_\n",
            "layer 122 False,  block5a_expand_\n",
            "layer 123 False,  block5a_expand_\n",
            "layer 124 False,  block5a_dwconv\n",
            "layer 125 False,  block5a_bn\n",
            "layer 126 False,  block5a_activat\n",
            "layer 127 False,  block5a_se_sque\n",
            "layer 128 False,  block5a_se_resh\n",
            "layer 129 False,  block5a_se_redu\n",
            "layer 130 False,  block5a_se_expa\n",
            "layer 131 False,  block5a_se_exci\n",
            "layer 132 False,  block5a_project\n",
            "layer 133 False,  block5a_project\n",
            "layer 134 False,  block5b_expand_\n",
            "layer 135 False,  block5b_expand_\n",
            "layer 136 False,  block5b_expand_\n",
            "layer 137 False,  block5b_dwconv\n",
            "layer 138 False,  block5b_bn\n",
            "layer 139 False,  block5b_activat\n",
            "layer 140 False,  block5b_se_sque\n",
            "layer 141 False,  block5b_se_resh\n",
            "layer 142 False,  block5b_se_redu\n",
            "layer 143 False,  block5b_se_expa\n",
            "layer 144 False,  block5b_se_exci\n",
            "layer 145 False,  block5b_project\n",
            "layer 146 False,  block5b_project\n",
            "layer 147 False,  block5b_drop\n",
            "layer 148 False,  block5b_add\n",
            "layer 149 False,  block5c_expand_\n",
            "layer 150 False,  block5c_expand_\n",
            "layer 151 False,  block5c_expand_\n",
            "layer 152 False,  block5c_dwconv\n",
            "layer 153 False,  block5c_bn\n",
            "layer 154 False,  block5c_activat\n",
            "layer 155 False,  block5c_se_sque\n",
            "layer 156 False,  block5c_se_resh\n",
            "layer 157 False,  block5c_se_redu\n",
            "layer 158 False,  block5c_se_expa\n",
            "layer 159 False,  block5c_se_exci\n",
            "layer 160 False,  block5c_project\n",
            "layer 161 False,  block5c_project\n",
            "layer 162 False,  block5c_drop\n",
            "layer 163 False,  block5c_add\n",
            "layer 164 False,  block6a_expand_\n",
            "layer 165 False,  block6a_expand_\n",
            "layer 166 False,  block6a_expand_\n",
            "layer 167 False,  block6a_dwconv_\n",
            "layer 168 False,  block6a_dwconv\n",
            "layer 169 False,  block6a_bn\n",
            "layer 170 False,  block6a_activat\n",
            "layer 171 False,  block6a_se_sque\n",
            "layer 172 False,  block6a_se_resh\n",
            "layer 173 False,  block6a_se_redu\n",
            "layer 174 False,  block6a_se_expa\n",
            "layer 175 False,  block6a_se_exci\n",
            "layer 176 False,  block6a_project\n",
            "layer 177 False,  block6a_project\n",
            "layer 178 False,  block6b_expand_\n",
            "layer 179 False,  block6b_expand_\n",
            "layer 180 False,  block6b_expand_\n",
            "layer 181 False,  block6b_dwconv\n",
            "layer 182 False,  block6b_bn\n",
            "layer 183 False,  block6b_activat\n",
            "layer 184 False,  block6b_se_sque\n",
            "layer 185 False,  block6b_se_resh\n",
            "layer 186 False,  block6b_se_redu\n",
            "layer 187 False,  block6b_se_expa\n",
            "layer 188 False,  block6b_se_exci\n",
            "layer 189 False,  block6b_project\n",
            "layer 190 False,  block6b_project\n",
            "layer 191 False,  block6b_drop\n",
            "layer 192 False,  block6b_add\n",
            "layer 193 False,  block6c_expand_\n",
            "layer 194 False,  block6c_expand_\n",
            "layer 195 False,  block6c_expand_\n",
            "layer 196 False,  block6c_dwconv\n",
            "layer 197 False,  block6c_bn\n",
            "layer 198 False,  block6c_activat\n",
            "layer 199 False,  block6c_se_sque\n",
            "layer 200 False,  block6c_se_resh\n",
            "layer 201 False,  block6c_se_redu\n",
            "layer 202 False,  block6c_se_expa\n",
            "layer 203 False,  block6c_se_exci\n",
            "layer 204 False,  block6c_project\n",
            "layer 205 False,  block6c_project\n",
            "layer 206 False,  block6c_drop\n",
            "layer 207 False,  block6c_add\n",
            "layer 208 False,  block6d_expand_\n",
            "layer 209 False,  block6d_expand_\n",
            "layer 210 False,  block6d_expand_\n",
            "layer 211 False,  block6d_dwconv\n",
            "layer 212 False,  block6d_bn\n",
            "layer 213 False,  block6d_activat\n",
            "layer 214 False,  block6d_se_sque\n",
            "layer 215 False,  block6d_se_resh\n",
            "layer 216 False,  block6d_se_redu\n",
            "layer 217 False,  block6d_se_expa\n",
            "layer 218 False,  block6d_se_exci\n",
            "layer 219 False,  block6d_project\n",
            "layer 220 False,  block6d_project\n",
            "layer 221 True,  block6d_drop\n",
            "layer 222 True,  block6d_add\n",
            "layer 223 True,  block7a_expand_\n",
            "layer 224 True,  block7a_expand_\n",
            "layer 225 True,  block7a_expand_\n",
            "layer 226 True,  block7a_dwconv\n",
            "layer 227 True,  block7a_bn\n",
            "layer 228 True,  block7a_activat\n",
            "layer 229 True,  block7a_se_sque\n",
            "layer 230 True,  block7a_se_resh\n",
            "layer 231 True,  block7a_se_redu\n",
            "layer 232 True,  block7a_se_expa\n",
            "layer 233 True,  block7a_se_exci\n",
            "layer 234 True,  block7a_project\n",
            "layer 235 True,  block7a_project\n",
            "layer 236 True,  top_conv\n",
            "layer 237 True,  top_bn\n",
            "layer 238 True,  top_activation\n",
            "layer 239 True,  avg_pool\n"
          ]
        }
      ],
      "source": [
        "for idx, layer in enumerate(efficientnet.layers, 1):\n",
        "    print(f\"layer {idx} {layer.trainable},  {layer.name[:15]}\")"
      ]
    },
    {
      "cell_type": "code",
      "execution_count": null,
      "metadata": {
        "colab": {
          "base_uri": "https://localhost:8080/"
        },
        "id": "62WroF60OM7A",
        "outputId": "93ea3121-4e1e-4e71-863d-b18af11eb48c"
      },
      "outputs": [
        {
          "output_type": "stream",
          "name": "stdout",
          "text": [
            "Model: \"sequential_2\"\n",
            "_________________________________________________________________\n",
            " Layer (type)                Output Shape              Param #   \n",
            "=================================================================\n",
            " efficientnetb0 (Functional)  (None, 1280)             4049571   \n",
            "                                                                 \n",
            " dense_2 (Dense)             (None, 2)                 2562      \n",
            "                                                                 \n",
            "=================================================================\n",
            "Total params: 4,052,133\n",
            "Trainable params: 1,131,954\n",
            "Non-trainable params: 2,920,179\n",
            "_________________________________________________________________\n"
          ]
        }
      ],
      "source": [
        "output_layer = tf.keras.layers.Dense(units=2, activation='sigmoid')\n",
        "\n",
        "ta_eff = tf.keras.Sequential([efficientnet, output_layer])\n",
        "ta_eff.summary()"
      ]
    },
    {
      "cell_type": "code",
      "execution_count": null,
      "metadata": {
        "id": "SDDxYmDwPD7T"
      },
      "outputs": [],
      "source": [
        "def compute_ta_loss(images, labels, ALPHA, DISTILLATION_TEMPERATURE):\n",
        "\n",
        "  ta_subclass_logits = ta_eff(images, training=True)\n",
        "  teacher_subclass_logits = teacher_res(images, training=False)\n",
        "  distillation_loss_value = distillation_loss(teacher_subclass_logits, ta_subclass_logits,\n",
        "                      DISTILLATION_TEMPERATURE)\n",
        "  cross_entropy_loss_value = tf.keras.losses.CategoricalCrossentropy(from_logits=True)(labels, ta_subclass_logits)\n",
        "\n",
        "  return ALPHA * distillation_loss_value + (1-ALPHA)* cross_entropy_loss_value\n",
        "\n",
        "def compute_student_loss(images, labels, ALPHA, DISTILLATION_TEMPERATURE):\n",
        "\n",
        "  student_subclass_logits = student_mobile(images, training=True)\n",
        "  ta_subclass_logits = ta_eff(images, training=False)\n",
        "  distillation_loss_value = distillation_loss(ta_subclass_logits, student_subclass_logits,\n",
        "                      DISTILLATION_TEMPERATURE)\n",
        "  cross_entropy_loss_value = tf.keras.losses.CategoricalCrossentropy(from_logits=True)(labels, student_subclass_logits)\n",
        "\n",
        "  return ALPHA * distillation_loss_value + (1-ALPHA)* cross_entropy_loss_value"
      ]
    },
    {
      "cell_type": "code",
      "execution_count": null,
      "metadata": {
        "id": "3JOZuI9QQj_X"
      },
      "outputs": [],
      "source": [
        "def train_and_evaluate_ta(model, compute_loss_fn, ALPHA, DISTILLATION_TEMPERATURE):\n",
        "\n",
        "  optimizer = tf.keras.optimizers.Adam(learning_rate=0.001)\n",
        "  for epoch in range(1,10+1):\n",
        "    print('Epoch {}: '.format(epoch), end='')\n",
        "    train_set_create.reset()\n",
        "\n",
        "    for _ in range(68):\n",
        "      images, labels=train_set_create.next()\n",
        "      with tf.GradientTape() as tape:\n",
        "        loss_value = compute_loss_fn(images,labels, ALPHA, DISTILLATION_TEMPERATURE)\n",
        "      grads = tape.gradient(loss_value, model.trainable_variables)\n",
        "      optimizer.apply_gradients(zip(grads, model.trainable_variables))\n",
        "\n",
        "    num_correct = 0\n",
        "    num_total = 0\n",
        "    for _ in range(31):\n",
        "      images, labels=test_set_create.next()\n",
        "      num_total+= len(labels)\n",
        "      correct_predictions = compute_num_correct(model, images, labels)\n",
        "      num_correct += correct_predictions[0]\n",
        "    auc = compute_auc(model, test_set_create)\n",
        "    print(\"Class accuracy: \" + '{:.5f}%'.format(num_correct / num_total * 100))\n",
        "    print(\"AUC: {:.4f}\".format(auc))\n",
        "\n",
        "  # Fine-tuning phase.\n",
        "  print('Fine-tuning')\n",
        "  optimizer = tf.keras.optimizers.Adam(learning_rate=0.0001)\n",
        "\n",
        "  for epoch in range(1,26):\n",
        "    print('Epoch {}: '.format(epoch), end='')\n",
        "    train_set_create.reset()\n",
        "    for _ in range(68):\n",
        "      images, labels=train_set_create.next()\n",
        "      with tf.GradientTape() as tape:\n",
        "        loss_value = compute_loss_fn(images,labels, ALPHA, DISTILLATION_TEMPERATURE)\n",
        "      grads = tape.gradient(loss_value, model.trainable_variables)\n",
        "      optimizer.apply_gradients(zip(grads, model.trainable_variables))\n",
        "\n",
        "    num_correct = 0\n",
        "    num_total = 0\n",
        "    for _ in range(31):\n",
        "      images, labels=test_set_create.next()\n",
        "      num_total+= len(labels)\n",
        "      correct_predictions = compute_num_correct(model, images, labels)\n",
        "      num_correct += correct_predictions[0]\n",
        "    auc = compute_auc(model, test_set_create)\n",
        "    print(\"Class accuracy: \" + '{:.5f}%'.format(num_correct / num_total * 100))\n",
        "    print(\"AUC: {:.4f}\".format(auc))"
      ]
    },
    {
      "cell_type": "code",
      "execution_count": null,
      "metadata": {
        "colab": {
          "base_uri": "https://localhost:8080/"
        },
        "id": "rM5h2M261s_u",
        "outputId": "3c3f4549-77b2-488f-fff4-0ffdf28a0d58"
      },
      "outputs": [
        {
          "name": "stdout",
          "output_type": "stream",
          "text": [
            "Epoch 1: "
          ]
        },
        {
          "name": "stderr",
          "output_type": "stream",
          "text": [
            "WARNING:tensorflow:5 out of the last 5 calls to <function _BaseOptimizer._update_step_xla at 0x7e19fdba2050> triggered tf.function retracing. Tracing is expensive and the excessive number of tracings could be due to (1) creating @tf.function repeatedly in a loop, (2) passing tensors with different shapes, (3) passing Python objects instead of tensors. For (1), please define your @tf.function outside of the loop. For (2), @tf.function has reduce_retracing=True option that can avoid unnecessary retracing. For (3), please refer to https://www.tensorflow.org/guide/function#controlling_retracing and https://www.tensorflow.org/api_docs/python/tf/function for  more details.\n",
            "WARNING:tensorflow:6 out of the last 6 calls to <function _BaseOptimizer._update_step_xla at 0x7e19fdba2050> triggered tf.function retracing. Tracing is expensive and the excessive number of tracings could be due to (1) creating @tf.function repeatedly in a loop, (2) passing tensors with different shapes, (3) passing Python objects instead of tensors. For (1), please define your @tf.function outside of the loop. For (2), @tf.function has reduce_retracing=True option that can avoid unnecessary retracing. For (3), please refer to https://www.tensorflow.org/guide/function#controlling_retracing and https://www.tensorflow.org/api_docs/python/tf/function for  more details.\n"
          ]
        },
        {
          "name": "stdout",
          "output_type": "stream",
          "text": [
            "Class accuracy: 79.43%\n",
            "AUC: 0.8660\n",
            "Epoch 2: Class accuracy: 81.06%\n",
            "AUC: 0.8919\n",
            "Epoch 3: Class accuracy: 81.99%\n",
            "AUC: 0.8884\n",
            "Epoch 4: Class accuracy: 82.60%\n",
            "AUC: 0.8950\n",
            "Epoch 5: Class accuracy: 82.50%\n",
            "AUC: 0.9077\n",
            "Epoch 6: Class accuracy: 83.11%\n",
            "AUC: 0.8991\n",
            "Epoch 7: Class accuracy: 82.50%\n",
            "AUC: 0.8973\n",
            "Epoch 8: Class accuracy: 82.91%\n",
            "AUC: 0.9015\n",
            "Epoch 9: Class accuracy: 82.91%\n",
            "AUC: 0.8979\n",
            "Epoch 10: Class accuracy: 82.19%\n",
            "AUC: 0.8982\n",
            "Fine-tuning\n",
            "Epoch 1: Class accuracy: 85.06%\n",
            "AUC: 0.9080\n",
            "Epoch 2: Class accuracy: 85.06%\n",
            "AUC: 0.9115\n",
            "Epoch 3: Class accuracy: 85.57%\n",
            "AUC: 0.9133\n",
            "Epoch 4: Class accuracy: 85.26%\n",
            "AUC: 0.9129\n",
            "Epoch 5: Class accuracy: 85.06%\n",
            "AUC: 0.9126\n",
            "Epoch 6: Class accuracy: 85.67%\n",
            "AUC: 0.9139\n",
            "Epoch 7: Class accuracy: 86.08%\n",
            "AUC: 0.9134\n",
            "Epoch 8: Class accuracy: 85.77%\n",
            "AUC: 0.9135\n",
            "Epoch 9: Class accuracy: 85.26%\n",
            "AUC: 0.9102\n",
            "Epoch 10: Class accuracy: 85.77%\n",
            "AUC: 0.9125\n",
            "Epoch 11: Class accuracy: 85.36%\n",
            "AUC: 0.9124\n",
            "Epoch 12: Class accuracy: 85.47%\n",
            "AUC: 0.9113\n",
            "Epoch 13: Class accuracy: 85.47%\n",
            "AUC: 0.9113\n",
            "Epoch 14: Class accuracy: 85.36%\n",
            "AUC: 0.9106\n",
            "Epoch 15: Class accuracy: 84.95%\n",
            "AUC: 0.9099\n",
            "Epoch 16: Class accuracy: 84.95%\n",
            "AUC: 0.9097\n",
            "Epoch 17: Class accuracy: 85.26%\n",
            "AUC: 0.9059\n",
            "Epoch 18: Class accuracy: 85.06%\n",
            "AUC: 0.9119\n",
            "Epoch 19: Class accuracy: 85.16%\n",
            "AUC: 0.9149\n",
            "Epoch 20: Class accuracy: 85.06%\n",
            "AUC: 0.9133\n",
            "Epoch 21: Class accuracy: 84.95%\n",
            "AUC: 0.9099\n",
            "Epoch 22: Class accuracy: 85.16%\n",
            "AUC: 0.9121\n",
            "Epoch 23: Class accuracy: 84.65%\n",
            "AUC: 0.9121\n",
            "Epoch 24: Class accuracy: 85.26%\n",
            "AUC: 0.9141\n",
            "Epoch 25: Class accuracy: 85.57%\n",
            "AUC: 0.9159\n"
          ]
        }
      ],
      "source": [
        "train_and_evaluate_teacher(teacher_res,compute_teacher_loss)"
      ]
    },
    {
      "cell_type": "code",
      "execution_count": null,
      "metadata": {
        "colab": {
          "base_uri": "https://localhost:8080/"
        },
        "id": "Xa46hHUr1YSg",
        "outputId": "b5175389-7ce8-4853-be4d-f13949281928"
      },
      "outputs": [
        {
          "name": "stdout",
          "output_type": "stream",
          "text": [
            "Epoch 1: Class accuracy: 63.15251%\n",
            "AUC: 0.5847\n",
            "Epoch 2: Class accuracy: 63.15251%\n",
            "AUC: 0.5760\n",
            "Epoch 3: Class accuracy: 63.15251%\n",
            "AUC: 0.5752\n",
            "Epoch 4: Class accuracy: 63.15251%\n",
            "AUC: 0.5716\n",
            "Epoch 5: Class accuracy: 63.15251%\n",
            "AUC: 0.5740\n",
            "Epoch 6: Class accuracy: 63.15251%\n",
            "AUC: 0.5732\n",
            "Epoch 7: Class accuracy: 63.15251%\n",
            "AUC: 0.5727\n",
            "Epoch 8: Class accuracy: 63.15251%\n",
            "AUC: 0.5759\n",
            "Epoch 9: Class accuracy: 63.15251%\n",
            "AUC: 0.5750\n",
            "Epoch 10: Class accuracy: 63.15251%\n",
            "AUC: 0.5753\n",
            "fine tuning\n",
            "Epoch 1: Class accuracy: 63.15251%\n",
            "AUC: 0.5768\n",
            "Epoch 2: Class accuracy: 63.15251%\n",
            "AUC: 0.5769\n",
            "Epoch 3: Class accuracy: 63.15251%\n",
            "AUC: 0.5769\n",
            "Epoch 4: Class accuracy: 63.15251%\n",
            "AUC: 0.5764\n",
            "Epoch 5: Class accuracy: 63.15251%\n",
            "AUC: 0.5764\n",
            "Epoch 6: Class accuracy: 63.15251%\n",
            "AUC: 0.5775\n",
            "Epoch 7: Class accuracy: 63.15251%\n",
            "AUC: 0.5782\n",
            "Epoch 8: Class accuracy: 63.15251%\n",
            "AUC: 0.5769\n",
            "Epoch 9: Class accuracy: 63.15251%\n",
            "AUC: 0.5763\n",
            "Epoch 10: Class accuracy: 63.15251%\n",
            "AUC: 0.5784\n",
            "Epoch 11: Class accuracy: 63.15251%\n",
            "AUC: 0.5786\n",
            "Epoch 12: Class accuracy: 63.15251%\n",
            "AUC: 0.5792\n",
            "Epoch 13: Class accuracy: 63.15251%\n",
            "AUC: 0.5798\n",
            "Epoch 14: Class accuracy: 63.15251%\n",
            "AUC: 0.5814\n",
            "Epoch 15: Class accuracy: 63.15251%\n",
            "AUC: 0.5802\n",
            "Epoch 16: Class accuracy: 63.15251%\n",
            "AUC: 0.5804\n",
            "Epoch 17: Class accuracy: 63.15251%\n",
            "AUC: 0.5816\n",
            "Epoch 18: Class accuracy: 63.15251%\n",
            "AUC: 0.5822\n",
            "Epoch 19: Class accuracy: 63.15251%\n",
            "AUC: 0.5819\n",
            "Epoch 20: Class accuracy: 63.15251%\n",
            "AUC: 0.6015\n",
            "Epoch 21: Class accuracy: 63.15251%\n",
            "AUC: 0.5923\n",
            "Epoch 22: Class accuracy: 63.15251%\n",
            "AUC: 0.5876\n",
            "Epoch 23: Class accuracy: 63.15251%\n",
            "AUC: 0.6009\n",
            "Epoch 24: Class accuracy: 63.15251%\n",
            "AUC: 0.5840\n",
            "Epoch 25: Class accuracy: 63.15251%\n",
            "AUC: 0.5845\n"
          ]
        }
      ],
      "source": [
        "train_and_evaluate_ta(ta_eff, compute_ta_loss, 0.7, 8)"
      ]
    },
    {
      "cell_type": "code",
      "execution_count": null,
      "metadata": {
        "colab": {
          "base_uri": "https://localhost:8080/"
        },
        "id": "2ASsER7yStEx",
        "outputId": "a82c2c4d-cf1f-47d9-c80f-0eb5f999148b"
      },
      "outputs": [
        {
          "name": "stdout",
          "output_type": "stream",
          "text": [
            "Epoch 1: Class accuracy: 62.64%\n",
            "AUC: 0.5550\n",
            "Epoch 2: Class accuracy: 61.72%\n",
            "AUC: 0.5492\n",
            "Epoch 3: Class accuracy: 62.33%\n",
            "AUC: 0.5116\n",
            "Epoch 4: Class accuracy: 61.41%\n",
            "AUC: 0.5330\n",
            "Epoch 5: Class accuracy: 59.57%\n",
            "AUC: 0.5945\n",
            "Epoch 6: Class accuracy: 53.22%\n",
            "AUC: 0.6047\n",
            "Epoch 7: Class accuracy: 56.81%\n",
            "AUC: 0.6258\n",
            "Epoch 8: Class accuracy: 60.90%\n",
            "AUC: 0.6562\n",
            "Epoch 9: Class accuracy: 62.85%\n",
            "AUC: 0.6617\n",
            "Epoch 10: Class accuracy: 62.74%\n",
            "AUC: 0.6761\n",
            "fine tuning\n",
            "Epoch 1: Class accuracy: 63.66%\n",
            "AUC: 0.6787\n",
            "Epoch 2: Class accuracy: 65.30%\n",
            "AUC: 0.7275\n",
            "Epoch 3: Class accuracy: 67.14%\n",
            "AUC: 0.7393\n",
            "Epoch 4: Class accuracy: 67.45%\n",
            "AUC: 0.7417\n",
            "Epoch 5: Class accuracy: 66.84%\n",
            "AUC: 0.7205\n",
            "Epoch 6: Class accuracy: 66.84%\n",
            "AUC: 0.7292\n",
            "Epoch 7: Class accuracy: 64.89%\n",
            "AUC: 0.7493\n",
            "Epoch 8: Class accuracy: 66.63%\n",
            "AUC: 0.7526\n",
            "Epoch 9: Class accuracy: 64.99%\n",
            "AUC: 0.7473\n",
            "Epoch 10: Class accuracy: 64.69%\n",
            "AUC: 0.7367\n",
            "Epoch 11: Class accuracy: 67.86%\n",
            "AUC: 0.7657\n",
            "Epoch 12: Class accuracy: 69.40%\n",
            "AUC: 0.7506\n",
            "Epoch 13: Class accuracy: 63.77%\n",
            "AUC: 0.7411\n",
            "Epoch 14: Class accuracy: 64.59%\n",
            "AUC: 0.7700\n",
            "Epoch 15: Class accuracy: 66.94%\n",
            "AUC: 0.7738\n",
            "Epoch 16: Class accuracy: 63.46%\n",
            "AUC: 0.7614\n",
            "Epoch 17: Class accuracy: 63.77%\n",
            "AUC: 0.7748\n",
            "Epoch 18: Class accuracy: 64.79%\n",
            "AUC: 0.7661\n",
            "Epoch 19: Class accuracy: 63.66%\n",
            "AUC: 0.7797\n",
            "Epoch 20: Class accuracy: 63.87%\n",
            "AUC: 0.7904\n",
            "Epoch 21: Class accuracy: 64.69%\n",
            "AUC: 0.7979\n",
            "Epoch 22: Class accuracy: 66.12%\n",
            "AUC: 0.8051\n",
            "Epoch 23: Class accuracy: 63.77%\n",
            "AUC: 0.8095\n",
            "Epoch 24: Class accuracy: 66.73%\n",
            "AUC: 0.8125\n",
            "Epoch 25: Class accuracy: 68.47%\n",
            "AUC: 0.7776\n"
          ]
        }
      ],
      "source": [
        "train_and_evaluate_kd(student_mobile, compute_student_loss, 0.7, 8)"
      ]
    },
    {
      "cell_type": "markdown",
      "metadata": {
        "id": "59yPR0UiK6ln"
      },
      "source": [
        "#Improved Knowledge Distillation via FitNet"
      ]
    },
    {
      "cell_type": "code",
      "source": [],
      "metadata": {
        "id": "b3EQKsGgP_YR"
      },
      "execution_count": null,
      "outputs": []
    },
    {
      "cell_type": "code",
      "execution_count": null,
      "metadata": {
        "id": "FKznfzEsKxxC"
      },
      "outputs": [],
      "source": [
        "import tensorflow.compat.v2 as tf #\n",
        "from typing import Union\n",
        "from tensorflow.keras.layers import *\n",
        "from keras.preprocessing.image import ImageDataGenerator\n",
        "#from keras.utils.np_utils import to_categorical\n",
        "import tensorflow.keras.utils as utils\n",
        "import keras\n",
        "import numpy\n",
        "import pandas as pd\n",
        "import numpy as np\n",
        "import matplotlib.pyplot as plt\n",
        "from sklearn.metrics import roc_auc_score\n",
        "import os\n",
        "\n",
        "tf.enable_v2_behavior()\n"
      ]
    },
    {
      "cell_type": "markdown",
      "metadata": {
        "id": "tiikFZthNNwU"
      },
      "source": [
        "load data"
      ]
    },
    {
      "cell_type": "code",
      "execution_count": null,
      "metadata": {
        "id": "nljmOWn7N2ZI",
        "colab": {
          "base_uri": "https://localhost:8080/"
        },
        "outputId": "32944ec9-811c-4e41-c458-02651ad6dc79"
      },
      "outputs": [
        {
          "output_type": "stream",
          "name": "stdout",
          "text": [
            "Drive already mounted at /content/drive; to attempt to forcibly remount, call drive.mount(\"/content/drive\", force_remount=True).\n"
          ]
        }
      ],
      "source": [
        "from google.colab import drive\n",
        "drive.mount('/content/drive')\n",
        "target_directory = r'/content/drive/My Drive/ECE_1512_ProjectA/mhist_dataset/images'\n",
        "os.chdir(target_directory)\n",
        "image_table=pd.read_csv('/content/drive/My Drive/ECE_1512_ProjectA/mhist_dataset/annotations.csv')"
      ]
    },
    {
      "cell_type": "code",
      "source": [
        "# train dataset\n",
        "train_set = image_table[image_table['Partition'] == 'train']\n",
        "print(\"Shape of the 'train_set' DataFrame:\")\n",
        "print(train_set.shape)\n",
        "# test dataset\n",
        "test_set = image_table[image_table['Partition'] == 'test']\n",
        "print(\"Shape of the 'test_set' DataFrame:\")\n",
        "print(test_set.shape)\n",
        "\n",
        "image_dir = '/content/drive/My Drive//ECE_1512_ProjectA/mhist_dataset/images'"
      ],
      "metadata": {
        "id": "EuAe8lR_Gmet",
        "colab": {
          "base_uri": "https://localhost:8080/"
        },
        "outputId": "0613bc69-7286-445b-df80-9a8607aa9f23"
      },
      "execution_count": null,
      "outputs": [
        {
          "output_type": "stream",
          "name": "stdout",
          "text": [
            "Shape of the 'train_set' DataFrame:\n",
            "(2175, 4)\n",
            "Shape of the 'test_set' DataFrame:\n",
            "(977, 4)\n"
          ]
        }
      ]
    },
    {
      "cell_type": "markdown",
      "source": [
        "Data augmentation"
      ],
      "metadata": {
        "id": "HAhRuLPfG-wR"
      }
    },
    {
      "cell_type": "code",
      "source": [
        "train_set_augmentation = ImageDataGenerator(\n",
        "    rescale=1/255.0,\n",
        "    shear_range=-0.1,\n",
        "    rotation_range=15,\n",
        "    horizontal_flip=True,\n",
        "    vertical_flip=True,\n",
        "    zoom_range=0.2,\n",
        "    width_shift_range=0.2,\n",
        "    height_shift_range=0.2\n",
        ")\n",
        "\n",
        "test_set_augmentation = ImageDataGenerator(\n",
        "    rescale=1/255.0\n",
        ")\n"
      ],
      "metadata": {
        "id": "Ub5sun2OGzbB"
      },
      "execution_count": null,
      "outputs": []
    },
    {
      "cell_type": "code",
      "source": [
        "# train\n",
        "train_set_create = train_set_augmentation.flow_from_dataframe(\n",
        "    dataframe=train_set,\n",
        "    directory=image_dir,\n",
        "    x_col=\"Image Name\",\n",
        "    y_col=\"Majority Vote Label\",\n",
        "    batch_size=32,\n",
        "    seed=50,\n",
        "    shuffle=True,\n",
        "    interpolation='lanczos',\n",
        "    class_mode=\"categorical\",\n",
        "    target_size=(224, 224)\n",
        ")\n",
        "\n",
        "#test\n",
        "test_set_create = test_set_augmentation.flow_from_dataframe(\n",
        "    dataframe=test_set,\n",
        "    directory=image_dir,\n",
        "    x_col=\"Image Name\",\n",
        "    y_col=\"Majority Vote Label\",\n",
        "    batch_size=32,\n",
        "    seed=50,\n",
        "    shuffle=False,\n",
        "    interpolation='lanczos',\n",
        "    class_mode=\"categorical\",\n",
        "    target_size=(224, 224)\n",
        ")\n"
      ],
      "metadata": {
        "id": "Qi4Nb8zhHKlE",
        "colab": {
          "base_uri": "https://localhost:8080/"
        },
        "outputId": "a7c367f3-6b42-4b6f-c1eb-bd7b4f5aa206"
      },
      "execution_count": null,
      "outputs": [
        {
          "output_type": "stream",
          "name": "stdout",
          "text": [
            "Found 2175 validated image filenames belonging to 2 classes.\n",
            "Found 977 validated image filenames belonging to 2 classes.\n"
          ]
        }
      ]
    },
    {
      "cell_type": "markdown",
      "source": [
        "create teacher/student model"
      ],
      "metadata": {
        "id": "0jjhGoabQQpm"
      }
    },
    {
      "cell_type": "code",
      "source": [
        "# teacher model\n",
        "teacher_model_1 = resnet_2 = tf.keras.applications.ResNet50V2(\n",
        "    include_top=False,\n",
        "    weights=\"imagenet\", # pretrain weight\n",
        "    input_tensor=None,\n",
        "    input_shape=(224, 224, 3),\n",
        "    pooling='avg'\n",
        ")\n",
        "\n",
        "# frozen some layer\n",
        "freeze_layers = 185 #185\n",
        "for layer in teacher_model_1.layers[:freeze_layers]:\n",
        "    layer.trainable = False\n",
        "teacher_model =tf.keras.Sequential([ teacher_model_1,tf.keras.layers.Dense(units=2, activation='linear')])\n",
        "# print(f\"frozen {freeze_layers} layer\")\n",
        "# for idx, layer in enumerate(teacher_model.layers, 1):\n",
        "#     print(f\"layer {idx} {layer.trainable},  {layer.name[:5]}\")\n",
        "teacher_model.summary()"
      ],
      "metadata": {
        "id": "GLHTjMXPHW1y",
        "colab": {
          "base_uri": "https://localhost:8080/"
        },
        "outputId": "ef2c3e5e-7635-4202-f829-d68463ff8094"
      },
      "execution_count": null,
      "outputs": [
        {
          "output_type": "stream",
          "name": "stdout",
          "text": [
            "Model: \"sequential_3\"\n",
            "_________________________________________________________________\n",
            " Layer (type)                Output Shape              Param #   \n",
            "=================================================================\n",
            " resnet50v2 (Functional)     (None, 2048)              23564800  \n",
            "                                                                 \n",
            " dense_3 (Dense)             (None, 2)                 4098      \n",
            "                                                                 \n",
            "=================================================================\n",
            "Total params: 23,568,898\n",
            "Trainable params: 1,058,818\n",
            "Non-trainable params: 22,510,080\n",
            "_________________________________________________________________\n"
          ]
        }
      ]
    },
    {
      "cell_type": "code",
      "source": [
        "# find hint layer\n",
        "hint_layer_index = 190\n",
        "hint_layer = teacher_model_1.layers[hint_layer_index]\n",
        "hint_model = tf.keras.Model(inputs=teacher_model_1.input, outputs=hint_layer.output)\n",
        "# teacher_hint_model = tf.keras.Sequential([ hint_model,tf.keras.layers.Flatten(),tf.keras.layers.Dense(units=2, activation='linear')])\n",
        "teacher_hint_model = tf.keras.Sequential([ hint_model,tf.keras.layers.Flatten()])\n",
        "teacher_hint_model.summary()"
      ],
      "metadata": {
        "colab": {
          "base_uri": "https://localhost:8080/"
        },
        "id": "_s718eFpQTAo",
        "outputId": "e96e438a-c547-4365-a78f-ddebe50a8940"
      },
      "execution_count": null,
      "outputs": [
        {
          "output_type": "stream",
          "name": "stdout",
          "text": [
            "Model: \"sequential_4\"\n",
            "_________________________________________________________________\n",
            " Layer (type)                Output Shape              Param #   \n",
            "=================================================================\n",
            " model (Functional)          (None, 2048)              23564800  \n",
            "                                                                 \n",
            " flatten (Flatten)           (None, 2048)              0         \n",
            "                                                                 \n",
            "=================================================================\n",
            "Total params: 23,564,800\n",
            "Trainable params: 1,054,720\n",
            "Non-trainable params: 22,510,080\n",
            "_________________________________________________________________\n"
          ]
        }
      ]
    },
    {
      "cell_type": "code",
      "source": [
        "# student model\n",
        "student_model_1 = mobilenet_2 = tf.keras.applications.MobileNetV2(\n",
        "    include_top=False,  # 不包括顶层（全连接层）\n",
        "    weights=\"imagenet\",  # 使用预训练权重\n",
        "    input_tensor=None,  # 没有指定输入张量，将在模型内部创建\n",
        "    input_shape=(224, 224, 3),  # 输入图像的形状为 224x224 像素，RGB通道\n",
        "    pooling='max'\n",
        ")\n",
        "count=0\n",
        "for layers in student_model_1.layers:\n",
        "  count+=1\n",
        "  if count> 145:\n",
        "    layers.trainable=True\n",
        "  else:\n",
        "    layers.trainable=False\n",
        "# print('frozen 130 layer')\n",
        "# count=0\n",
        "# for layers in student_model.layers:\n",
        "#   print(layers.name[0:8],layers.trainable, count)\n",
        "#   count+=1\n",
        "student_model=tf.keras.Sequential([ student_model_1,tf.keras.layers.Dense(units=2, activation='linear')])\n",
        "student_model.summary()"
      ],
      "metadata": {
        "id": "cOCTmLg6Hhgh",
        "colab": {
          "base_uri": "https://localhost:8080/"
        },
        "outputId": "d8d4e21a-be06-408c-b2d8-efa0c26e7962"
      },
      "execution_count": null,
      "outputs": [
        {
          "output_type": "stream",
          "name": "stdout",
          "text": [
            "Model: \"sequential_5\"\n",
            "_________________________________________________________________\n",
            " Layer (type)                Output Shape              Param #   \n",
            "=================================================================\n",
            " mobilenetv2_1.00_224 (Funct  (None, 1280)             2257984   \n",
            " ional)                                                          \n",
            "                                                                 \n",
            " dense_4 (Dense)             (None, 2)                 2562      \n",
            "                                                                 \n",
            "=================================================================\n",
            "Total params: 2,260,546\n",
            "Trainable params: 733,122\n",
            "Non-trainable params: 1,527,424\n",
            "_________________________________________________________________\n"
          ]
        }
      ]
    },
    {
      "cell_type": "code",
      "source": [
        "# find guide layer in student model\n",
        "guided_layer = student_model_1.layers[150]\n",
        "guided_model = tf.keras.Model(inputs=student_model_1.input, outputs=guided_layer.output)\n",
        "\n",
        "student_hint_model = tf.keras.Sequential([ guided_model,tf.keras.layers.Flatten(),tf.keras.layers.Dense(units=2048, activation='linear')]) # unit=2\n",
        "student_hint_model.summary()"
      ],
      "metadata": {
        "id": "mBcmXUthHtal",
        "colab": {
          "base_uri": "https://localhost:8080/"
        },
        "outputId": "1195a9f6-a1f5-48a1-e46a-e0e5e899388a"
      },
      "execution_count": null,
      "outputs": [
        {
          "output_type": "stream",
          "name": "stdout",
          "text": [
            "Model: \"sequential_6\"\n",
            "_________________________________________________________________\n",
            " Layer (type)                Output Shape              Param #   \n",
            "=================================================================\n",
            " model_1 (Functional)        (None, 7, 7, 320)         1843264   \n",
            "                                                                 \n",
            " flatten_1 (Flatten)         (None, 15680)             0         \n",
            "                                                                 \n",
            " dense_5 (Dense)             (None, 2048)              32114688  \n",
            "                                                                 \n",
            "=================================================================\n",
            "Total params: 33,957,952\n",
            "Trainable params: 32,433,088\n",
            "Non-trainable params: 1,524,864\n",
            "_________________________________________________________________\n"
          ]
        }
      ]
    },
    {
      "cell_type": "markdown",
      "source": [
        "Calcuate loss function and evaluation"
      ],
      "metadata": {
        "id": "V7svtu7cH1wK"
      }
    },
    {
      "cell_type": "code",
      "source": [
        "# Function to compute the loss between teacher's activations and student's activations\n",
        "def compute_distillation_loss(teacher_activations, student_activations):\n",
        "    return tf.reduce_mean(tf.square(teacher_activations - student_activations))\n",
        "\n",
        "# Function to compute the fitnet loss\n",
        "def compute_fitnet_loss_for_batch(batch_data):\n",
        "    images, _ = batch_data\n",
        "    teacher_activations = teacher_hint_model(images)\n",
        "    student_activations = student_hint_model(images)\n",
        "    return compute_distillation_loss(teacher_activations, student_activations)\n"
      ],
      "metadata": {
        "id": "zSo3gmhKH1Z_"
      },
      "execution_count": null,
      "outputs": []
    },
    {
      "cell_type": "code",
      "source": [
        "# Function to compute the overall student loss including distillation and cross-entropy loss\n",
        "def compute_combined_student_loss(images, labels, teacher_hint_model, student_hint_model, ALPHA=0.9):\n",
        "    student_logits = student_model(images, training=True)\n",
        "    teacher_logits = teacher_model(images, training=False)\n",
        "\n",
        "    teacher_activations = teacher_hint_model(images)\n",
        "    student_activations = student_hint_model(images)\n",
        "\n",
        "    distillation_loss = compute_distillation_loss(teacher_activations, student_activations)\n",
        "\n",
        "    # Compute cross-entropy loss with hard targets\n",
        "    cross_entropy_loss_fn = tf.keras.losses.CategoricalCrossentropy(axis=-1)\n",
        "    #cross_entropy_loss = cross_entropy_loss_fn(labels, tf.nn.softmax(student_logits, axis=-1))\n",
        "    cross_entropy_loss = cross_entropy_loss_fn(labels, tf.nn.softmax(student_logits, axis=-1))\n",
        "\n",
        "\n",
        "    return ALPHA * distillation_loss + (1 - ALPHA) * cross_entropy_loss"
      ],
      "metadata": {
        "id": "ZU46IVZhH8Tz"
      },
      "execution_count": null,
      "outputs": []
    },
    {
      "cell_type": "code",
      "source": [
        "def compute_correct_predictions(model, images, labels):\n",
        "    \"\"\"Compute number of correctly classified images in a batch.\"\"\"\n",
        "    logits = model(images, training=False)\n",
        "    predicted_labels = tf.argmax(logits, -1)\n",
        "    true_labels = tf.argmax(labels, -1)\n",
        "\n",
        "    correct_predictions = tf.reduce_sum(tf.cast(tf.math.equal(predicted_labels, true_labels), tf.float32))\n",
        "\n",
        "    return correct_predictions, predicted_labels, true_labels"
      ],
      "metadata": {
        "id": "0T21t_UYH-4W"
      },
      "execution_count": null,
      "outputs": []
    },
    {
      "cell_type": "code",
      "source": [
        "def compute_auc(model, generator):\n",
        "    predictions = []\n",
        "    ground_truth = []\n",
        "\n",
        "    for _ in range(31):\n",
        "        images, labels = generator.next()\n",
        "        logits = model(images, training=False)\n",
        "        probabilities = tf.nn.softmax(logits, axis=-1)\n",
        "        predictions.extend(probabilities.numpy())\n",
        "        ground_truth.extend(labels)\n",
        "    auc = roc_auc_score(ground_truth, predictions, multi_class='ovr')\n",
        "\n",
        "    return auc"
      ],
      "metadata": {
        "id": "Kb_hjoWFIABd"
      },
      "execution_count": null,
      "outputs": []
    },
    {
      "cell_type": "code",
      "source": [
        "def train_and_evaluate_teacher_student(teacher, student, teacher_hint_model, student_hint_model, loss_fn):\n",
        "    optimizer = tf.keras.optimizers.Adam(learning_rate=0.001)\n",
        "\n",
        "    for epoch in range(1, 11):\n",
        "        print(f'Epoch {epoch}: ', end='')\n",
        "        train_set_create.reset()\n",
        "        for _ in range(68):\n",
        "            images, labels=train_set_create.next()\n",
        "            with tf.GradientTape() as tape:\n",
        "                loss_value = compute_combined_student_loss(images, labels, teacher_hint_model, student_hint_model)\n",
        "            gradients = tape.gradient(loss_value, student.trainable_variables)\n",
        "            optimizer.apply_gradients(zip(gradients, student.trainable_variables))\n",
        "\n",
        "        # Evaluate the model's performance\n",
        "        total_correct = 0\n",
        "        #total_samples = builder.info.splits['test'].num_examples\n",
        "        total_samples = 0\n",
        "        for _ in range(31):\n",
        "        #for images, labels in test_set_create:\n",
        "            images, labels=test_set_create.next()\n",
        "            total_samples +=len(labels)\n",
        "\n",
        "            correct_preds = compute_correct_predictions(student, images, labels)[0]\n",
        "            total_correct += correct_preds\n",
        "        auc = compute_auc(student, test_set_create)\n",
        "        #accuracy = (total_correct / total_samples) * 100\n",
        "        #print(f\"Classification Accuracy: {accuracy:.2f}%\")\n",
        "        print(\"AUC: {:.4f}\".format(auc))\n",
        "\n",
        "    print('fine tuning with learning rate 0.0001')\n",
        "    optimizer = tf.keras.optimizers.Adam(learning_rate=0.0001)\n",
        "\n",
        "    for epoch in range(1, 26):\n",
        "        print('Epoch {}: '.format(epoch), end='')\n",
        "        train_set_create.reset()\n",
        "        for _ in range(68):\n",
        "            images, labels=train_set_create.next()\n",
        "            with tf.GradientTape() as tape:\n",
        "                loss_value = compute_combined_student_loss(images, labels, teacher_hint_model, student_hint_model)\n",
        "            gradients = tape.gradient(loss_value, student.trainable_variables)\n",
        "            optimizer.apply_gradients(zip(gradients, student.trainable_variables))\n",
        "\n",
        "        # Evaluate the model's performance\n",
        "        total_correct = 0\n",
        "        #total_samples = builder.info.splits['test'].num_examples\n",
        "        total_samples = 0\n",
        "        for _ in range(31):\n",
        "        #for images, labels in test_set_create:\n",
        "            images, labels=test_set_create.next()\n",
        "            total_samples +=len(labels)\n",
        "\n",
        "            correct_preds = compute_correct_predictions(student, images, labels)[0]\n",
        "            total_correct += correct_preds\n",
        "        auc = compute_auc(student, test_set_create)\n",
        "        #accuracy = (total_correct / total_samples) * 100\n",
        "        #print(f\"Classification Accuracy: {accuracy:.2f}%\")\n",
        "        print(\"AUC: {:.4f}\".format(auc))"
      ],
      "metadata": {
        "id": "slJtjKDTICkP"
      },
      "execution_count": null,
      "outputs": []
    },
    {
      "cell_type": "code",
      "source": [
        "train_and_evaluate_teacher_student(teacher_model,student_model,teacher_hint_model,student_hint_model, compute_combined_student_loss) #140 180"
      ],
      "metadata": {
        "colab": {
          "base_uri": "https://localhost:8080/"
        },
        "id": "xy2qbnN5lwEj",
        "outputId": "67f93092-3f2a-4696-ca43-703d8b998c45"
      },
      "execution_count": null,
      "outputs": [
        {
          "output_type": "stream",
          "name": "stdout",
          "text": [
            "Epoch 1: "
          ]
        },
        {
          "output_type": "stream",
          "name": "stderr",
          "text": [
            "WARNING:tensorflow:5 out of the last 5 calls to <function _BaseOptimizer._update_step_xla at 0x7a4dbc17a710> triggered tf.function retracing. Tracing is expensive and the excessive number of tracings could be due to (1) creating @tf.function repeatedly in a loop, (2) passing tensors with different shapes, (3) passing Python objects instead of tensors. For (1), please define your @tf.function outside of the loop. For (2), @tf.function has reduce_retracing=True option that can avoid unnecessary retracing. For (3), please refer to https://www.tensorflow.org/guide/function#controlling_retracing and https://www.tensorflow.org/api_docs/python/tf/function for  more details.\n",
            "WARNING:tensorflow:6 out of the last 6 calls to <function _BaseOptimizer._update_step_xla at 0x7a4dbc17a710> triggered tf.function retracing. Tracing is expensive and the excessive number of tracings could be due to (1) creating @tf.function repeatedly in a loop, (2) passing tensors with different shapes, (3) passing Python objects instead of tensors. For (1), please define your @tf.function outside of the loop. For (2), @tf.function has reduce_retracing=True option that can avoid unnecessary retracing. For (3), please refer to https://www.tensorflow.org/guide/function#controlling_retracing and https://www.tensorflow.org/api_docs/python/tf/function for  more details.\n"
          ]
        },
        {
          "output_type": "stream",
          "name": "stdout",
          "text": [
            "AUC: 0.6302\n",
            "Epoch 2: AUC: 0.6477\n",
            "Epoch 3: AUC: 0.7141\n",
            "Epoch 4: AUC: 0.7599\n",
            "Epoch 5: AUC: 0.7815\n",
            "Epoch 6: AUC: 0.7438\n",
            "Epoch 7: AUC: 0.8192\n",
            "Epoch 8: AUC: 0.7362\n",
            "Epoch 9: AUC: 0.7369\n",
            "Epoch 10: AUC: 0.8369\n",
            "fine tuning with learning rate 0.0001\n",
            "Epoch 1: AUC: 0.8490\n",
            "Epoch 2: AUC: 0.8455\n",
            "Epoch 3: AUC: 0.8394\n",
            "Epoch 4: AUC: 0.8605\n",
            "Epoch 5: AUC: 0.8619\n",
            "Epoch 6: AUC: 0.8664\n",
            "Epoch 7: AUC: 0.8674\n",
            "Epoch 8: AUC: 0.8210\n",
            "Epoch 9: AUC: 0.8345\n",
            "Epoch 10: AUC: 0.8584\n",
            "Epoch 11: AUC: 0.8773\n",
            "Epoch 12: AUC: 0.8808\n",
            "Epoch 13: AUC: 0.8793\n",
            "Epoch 14: AUC: 0.8585\n",
            "Epoch 15: AUC: 0.8353\n",
            "Epoch 16: AUC: 0.8060\n",
            "Epoch 17: AUC: 0.8660\n",
            "Epoch 18: AUC: 0.8762\n",
            "Epoch 19: AUC: 0.8314\n",
            "Epoch 20: AUC: 0.8039\n",
            "Epoch 21: AUC: 0.8407\n",
            "Epoch 22: AUC: 0.8614\n",
            "Epoch 23: AUC: 0.8670\n",
            "Epoch 24: AUC: 0.8302\n",
            "Epoch 25: AUC: 0.8358\n"
          ]
        }
      ]
    }
  ],
  "metadata": {
    "accelerator": "GPU",
    "colab": {
      "machine_shape": "hm",
      "provenance": [],
      "gpuType": "T4",
      "include_colab_link": true
    },
    "kernelspec": {
      "display_name": "Python 3",
      "name": "python3"
    },
    "language_info": {
      "name": "python"
    }
  },
  "nbformat": 4,
  "nbformat_minor": 0
}