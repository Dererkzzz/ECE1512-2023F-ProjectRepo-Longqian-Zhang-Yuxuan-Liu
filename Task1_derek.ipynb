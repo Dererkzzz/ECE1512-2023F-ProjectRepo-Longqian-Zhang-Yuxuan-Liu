{
  "cells": [
    {
      "cell_type": "markdown",
      "metadata": {
        "id": "6WYMfvCNPwpm"
      },
      "source": [
        "# Project A: Knowledge Distillation for Building Lightweight Deep Learning Models in Visual Classification Tasks"
      ]
    },
    {
      "cell_type": "code",
      "execution_count": 3,
      "metadata": {
        "id": "vA8ppgB2P0aJ"
      },
      "outputs": [],
      "source": [
        "import tensorflow.compat.v2 as tf\n",
        "import tensorflow_datasets as tfds\n",
        "from typing import Union\n",
        "\n",
        "tf.enable_v2_behavior()\n",
        "\n",
        "builder = tfds.builder('mnist')\n",
        "BATCH_SIZE = 256\n",
        "NUM_EPOCHS = 12\n",
        "NUM_CLASSES = 10  # 10 total classes."
      ]
    },
    {
      "cell_type": "markdown",
      "metadata": {
        "id": "H2EFLQROP2R7"
      },
      "source": [
        "# Data loading"
      ]
    },
    {
      "cell_type": "code",
      "execution_count": 5,
      "metadata": {
        "id": "ynByMG_UP4A4"
      },
      "outputs": [],
      "source": [
        "# Load train and test splits.\n",
        "def preprocess(x):\n",
        "  image = tf.image.convert_image_dtype(x['image'], tf.float32)\n",
        "  subclass_labels = tf.one_hot(x['label'], builder.info.features['label'].num_classes)\n",
        "  return image, subclass_labels\n",
        "\n",
        "\n",
        "mnist_train = tfds.load('mnist', split='train', shuffle_files=False).cache()\n",
        "mnist_train = mnist_train.map(preprocess)\n",
        "mnist_train = mnist_train.shuffle(builder.info.splits['train'].num_examples)\n",
        "mnist_train = mnist_train.batch(BATCH_SIZE, drop_remainder=True)\n",
        "\n",
        "mnist_test = tfds.load('mnist', split='test').cache()\n",
        "mnist_test = mnist_test.map(preprocess).batch(BATCH_SIZE)"
      ]
    },
    {
      "cell_type": "markdown",
      "metadata": {
        "id": "kAZwfvW5P63q"
      },
      "source": [
        "# Model creation"
      ]
    },
    {
      "cell_type": "code",
      "execution_count": 6,
      "metadata": {
        "id": "zINgDkA7P7BP",
        "colab": {
          "base_uri": "https://localhost:8080/"
        },
        "outputId": "859afdab-6f00-482e-f4c1-b516ce324fff"
      },
      "outputs": [
        {
          "output_type": "stream",
          "name": "stdout",
          "text": [
            "Model: \"sequential\"\n",
            "_________________________________________________________________\n",
            " Layer (type)                Output Shape              Param #   \n",
            "=================================================================\n",
            " conv2d (Conv2D)             (None, 28, 28, 32)        320       \n",
            "                                                                 \n",
            " max_pooling2d (MaxPooling2  (None, 14, 14, 32)        0         \n",
            " D)                                                              \n",
            "                                                                 \n",
            " conv2d_1 (Conv2D)           (None, 14, 14, 64)        18496     \n",
            "                                                                 \n",
            " max_pooling2d_1 (MaxPoolin  (None, 7, 7, 64)          0         \n",
            " g2D)                                                            \n",
            "                                                                 \n",
            " flatten (Flatten)           (None, 3136)              0         \n",
            "                                                                 \n",
            " dropout (Dropout)           (None, 3136)              0         \n",
            "                                                                 \n",
            " dense (Dense)               (None, 128)               401536    \n",
            "                                                                 \n",
            " dropout_1 (Dropout)         (None, 128)               0         \n",
            "                                                                 \n",
            " dense_1 (Dense)             (None, 10)                1290      \n",
            "                                                                 \n",
            "=================================================================\n",
            "Total params: 421642 (1.61 MB)\n",
            "Trainable params: 421642 (1.61 MB)\n",
            "Non-trainable params: 0 (0.00 Byte)\n",
            "_________________________________________________________________\n",
            "Model: \"sequential_1\"\n",
            "_________________________________________________________________\n",
            " Layer (type)                Output Shape              Param #   \n",
            "=================================================================\n",
            " flatten_1 (Flatten)         (None, 784)               0         \n",
            "                                                                 \n",
            " dense_2 (Dense)             (None, 784)               615440    \n",
            "                                                                 \n",
            " dense_3 (Dense)             (None, 784)               615440    \n",
            "                                                                 \n",
            " dense_4 (Dense)             (None, 10)                7850      \n",
            "                                                                 \n",
            "=================================================================\n",
            "Total params: 1238730 (4.73 MB)\n",
            "Trainable params: 1238730 (4.73 MB)\n",
            "Non-trainable params: 0 (0.00 Byte)\n",
            "_________________________________________________________________\n"
          ]
        }
      ],
      "source": [
        "# Build CNN teacher.\n",
        "cnn_model = tf.keras.Sequential(\n",
        "    [\n",
        "        tf.keras.layers.Conv2D(32, kernel_size=3, strides=1, padding='same', activation=\"relu\",\n",
        "                               input_shape=(28, 28, 1)),\n",
        "        tf.keras.layers.MaxPool2D(pool_size=(2, 2)),\n",
        "        tf.keras.layers.Conv2D(64, kernel_size=3, strides=1, padding='same', activation=\"relu\"),\n",
        "        tf.keras.layers.MaxPool2D(pool_size=(2, 2), strides=2),\n",
        "        tf.keras.layers.Flatten(),\n",
        "        tf.keras.layers.Dropout(0.5),\n",
        "        tf.keras.layers.Dense(128, activation='relu'),\n",
        "        tf.keras.layers.Dropout(0.5),\n",
        "        tf.keras.layers.Dense(NUM_CLASSES),\n",
        "\n",
        "    ])\n",
        "\n",
        "cnn_model.summary()\n",
        "# your code start from here for stpe 2\n",
        "\n",
        "\n",
        "# Build fully connected student.\n",
        "fc_model = tf.keras.Sequential(\n",
        "    [\n",
        "        tf.keras.layers.Flatten(input_shape=(28, 28, 1)),\n",
        "        tf.keras.layers.Dense(784, activation='relu'),\n",
        "        tf.keras.layers.Dense(784, activation='relu'),\n",
        "        tf.keras.layers.Dense(NUM_CLASSES),\n",
        "    ])\n",
        "\n",
        "fc_model.summary()"
      ]
    },
    {
      "cell_type": "markdown",
      "metadata": {
        "id": "8JWGucyrQGav"
      },
      "source": [
        "# Teacher loss function"
      ]
    },
    {
      "cell_type": "code",
      "execution_count": 7,
      "metadata": {
        "id": "DhzBP6ZLQJ57"
      },
      "outputs": [],
      "source": [
        "@tf.function\n",
        "def compute_teacher_loss(images, labels):\n",
        "  \"\"\"Compute subclass knowledge distillation teacher loss for given images\n",
        "     and labels.\n",
        "\n",
        "  Args:\n",
        "    images: Tensor representing a batch of images.\n",
        "    labels: Tensor representing a batch of labels.\n",
        "\n",
        "  Returns:\n",
        "    Scalar loss Tensor.\n",
        "  \"\"\"\n",
        "  subclass_logits = cnn_model(images, training=True)\n",
        "\n",
        "  # Compute cross-entropy loss for subclasses.\n",
        "\n",
        "  # your code start from here for step 3\n",
        "  cross_entropy_loss_value = tf.keras.losses.CategoricalCrossentropy(from_logits=True)(labels, subclass_logits)\n",
        "\n",
        "\n",
        "  return cross_entropy_loss_value"
      ]
    },
    {
      "cell_type": "markdown",
      "metadata": {
        "id": "JS8xkuH0QbOS"
      },
      "source": [
        "# Student loss function"
      ]
    },
    {
      "cell_type": "code",
      "execution_count": 8,
      "metadata": {
        "id": "lDKia4gPQMIr"
      },
      "outputs": [],
      "source": [
        "##@test {\"output\": \"ignore\"}\n",
        "\n",
        "# Hyperparameters for distillation (need to be tuned).\n",
        "ALPHA = 0.5 # task balance between cross-entropy and distillation loss\n",
        "DISTILLATION_TEMPERATURE = 4. #temperature hyperparameter\n",
        "\n",
        "def distillation_loss(teacher_logits: tf.Tensor, student_logits: tf.Tensor,\n",
        "                      temperature: Union[float, tf.Tensor]):\n",
        "  \"\"\"Compute distillation loss.\n",
        "\n",
        "  This function computes cross entropy between softened logits and softened\n",
        "  targets. The resulting loss is scaled by the squared temperature so that\n",
        "  the gradient magnitude remains approximately constant as the temperature is\n",
        "  changed. For reference, see Hinton et al., 2014, \"Distilling the knowledge in\n",
        "  a neural network.\"\n",
        "\n",
        "  Args:\n",
        "    teacher_logits: A Tensor of logits provided by the teacher.\n",
        "    student_logits: A Tensor of logits provided by the student, of the same\n",
        "      shape as `teacher_logits`.\n",
        "    temperature: Temperature to use for distillation.\n",
        "\n",
        "  Returns:\n",
        "    A scalar Tensor containing the distillation loss.\n",
        "  \"\"\"\n",
        " # your code start from here for step 3\n",
        "  soft_targets = tf.nn.softmax(teacher_logits/temperature)\n",
        "\n",
        "  return tf.reduce_mean(\n",
        "      tf.nn.softmax_cross_entropy_with_logits(\n",
        "          soft_targets, student_logits / temperature)) * temperature ** 2\n",
        "\n",
        "def compute_student_loss(images, labels, ALPHA, DISTILLATION_TEMPERATURE):\n",
        "  \"\"\"Compute subclass knowledge distillation student loss for given images\n",
        "     and labels.\n",
        "\n",
        "  Args:\n",
        "    images: Tensor representing a batch of images.\n",
        "    labels: Tensor representing a batch of labels.\n",
        "\n",
        "  Returns:\n",
        "    Scalar loss Tensor.\n",
        "  \"\"\"\n",
        "  student_subclass_logits = fc_model(images, training=True) # fc model\n",
        "\n",
        "  # Compute subclass distillation loss between student subclass logits and\n",
        "  # softened teacher subclass targets probabilities.\n",
        "\n",
        "  # your code start from here for step 3\n",
        "\n",
        "  teacher_subclass_logits = cnn_model(images, training=False) # cnn_model\n",
        "  distillation_loss_value = distillation_loss(teacher_subclass_logits, student_subclass_logits,\n",
        "                      DISTILLATION_TEMPERATURE)\n",
        "\n",
        "  # Compute cross-entropy loss with hard targets.\n",
        "\n",
        "  # your code start from here for step 3\n",
        "\n",
        "  cross_entropy_loss_value = tf.keras.losses.CategoricalCrossentropy(from_logits=True)(labels, student_subclass_logits)\n",
        "\n",
        "  return ALPHA * distillation_loss_value + (1-ALPHA)* cross_entropy_loss_value"
      ]
    },
    {
      "cell_type": "markdown",
      "metadata": {
        "id": "RJ1uyvurQ3w4"
      },
      "source": [
        "# Train and evaluation"
      ]
    },
    {
      "cell_type": "code",
      "execution_count": 9,
      "metadata": {
        "id": "EtoLbp8uQ4Vl"
      },
      "outputs": [],
      "source": [
        "@tf.function\n",
        "def compute_num_correct(model, images, labels):\n",
        "  \"\"\"Compute number of correctly classified images in a batch.\n",
        "\n",
        "  Args:\n",
        "    model: Instance of tf.keras.Model.\n",
        "    images: Tensor representing a batch of images.\n",
        "    labels: Tensor representing a batch of labels.\n",
        "\n",
        "  Returns:\n",
        "    Number of correctly classified images.\n",
        "  \"\"\"\n",
        "  class_logits = model(images, training=False)\n",
        "  return tf.reduce_sum(\n",
        "      tf.cast(tf.math.equal(tf.argmax(class_logits, -1), tf.argmax(labels, -1)),\n",
        "              tf.float32)), tf.argmax(class_logits, -1), tf.argmax(labels, -1)\n",
        "\n",
        "\n",
        "def train_and_evaluate(model, compute_loss_fn):\n",
        "  \"\"\"Perform training and evaluation for a given model.\n",
        "\n",
        "  Args:\n",
        "    model: Instance of tf.keras.Model.\n",
        "    compute_loss_fn: A function that computes the training loss given the\n",
        "      images, and labels.\n",
        "  \"\"\"\n",
        "\n",
        "  # your code start from here for step 4\n",
        "  optimizer = tf.keras.optimizers.Adam(learning_rate=0.001)\n",
        "\n",
        "  for epoch in range(1, NUM_EPOCHS + 1):\n",
        "    # Run training.\n",
        "    print('Epoch {}: '.format(epoch), end='')\n",
        "    for images, labels in mnist_train:\n",
        "      with tf.GradientTape() as tape:\n",
        "         # your code start from here for step 4\n",
        "\n",
        "        loss_value = compute_loss_fn(images,labels)\n",
        "\n",
        "      grads = tape.gradient(loss_value, model.trainable_variables)\n",
        "      optimizer.apply_gradients(zip(grads, model.trainable_variables))\n",
        "\n",
        "    # Run evaluation.\n",
        "    num_correct = 0\n",
        "    num_total = builder.info.splits['test'].num_examples\n",
        "    for images, labels in mnist_test:\n",
        "      # your code start from here for step 4\n",
        "      num_correct += compute_num_correct(model,images,labels)[0]\n",
        "    print(\"Class_accuracy: \" + '{:.2f}%'.format(\n",
        "        num_correct / num_total * 100))\n",
        "\n",
        "\n",
        "\n",
        "def student_train_and_evaluate(model, compute_loss_fn, ALPHA, DISTILLATION_TEMPERATURE):\n",
        "  \"\"\"Perform training and evaluation for a student model.\n",
        "\n",
        "  Args:\n",
        "    model: Instance of tf.keras.Model.\n",
        "    compute_loss_fn: A function that computes the training loss given the\n",
        "      images, and labels.\n",
        "  \"\"\"\n",
        "\n",
        "  # your code start from here for step 4\n",
        "  optimizer = tf.keras.optimizers.Adam(learning_rate=0.001)\n",
        "\n",
        "  for epoch in range(1, NUM_EPOCHS + 1):\n",
        "    # Run training.\n",
        "    print('Epoch {}: '.format(epoch), end='')\n",
        "    for images, labels in mnist_train:\n",
        "      with tf.GradientTape() as tape:\n",
        "         # your code start from here for step 4\n",
        "\n",
        "        loss_value = compute_loss_fn(images,labels, ALPHA, DISTILLATION_TEMPERATURE)\n",
        "\n",
        "      grads = tape.gradient(loss_value, model.trainable_variables)\n",
        "      optimizer.apply_gradients(zip(grads, model.trainable_variables))\n",
        "\n",
        "    # Run evaluation.\n",
        "    num_correct = 0\n",
        "    num_total = builder.info.splits['test'].num_examples\n",
        "    for images, labels in mnist_test:\n",
        "      # your code start from here for step 4\n",
        "      num_correct += compute_num_correct(model,images,labels)[0]\n",
        "    print(\"Class_accuracy: \" + '{:.2f}%'.format(\n",
        "        num_correct / num_total * 100))"
      ]
    },
    {
      "cell_type": "markdown",
      "metadata": {
        "id": "NQL1lJdaRPT1"
      },
      "source": [
        "# Training models"
      ]
    },
    {
      "cell_type": "code",
      "execution_count": 10,
      "metadata": {
        "id": "-AGHbyABRPz3",
        "colab": {
          "base_uri": "https://localhost:8080/"
        },
        "outputId": "52629a53-babc-4b29-bc18-8501da6d6f06"
      },
      "outputs": [
        {
          "output_type": "stream",
          "name": "stdout",
          "text": [
            "Epoch 1: "
          ]
        },
        {
          "output_type": "stream",
          "name": "stderr",
          "text": [
            "WARNING:tensorflow:5 out of the last 5 calls to <function _BaseOptimizer._update_step_xla at 0x7c68c84de170> triggered tf.function retracing. Tracing is expensive and the excessive number of tracings could be due to (1) creating @tf.function repeatedly in a loop, (2) passing tensors with different shapes, (3) passing Python objects instead of tensors. For (1), please define your @tf.function outside of the loop. For (2), @tf.function has reduce_retracing=True option that can avoid unnecessary retracing. For (3), please refer to https://www.tensorflow.org/guide/function#controlling_retracing and https://www.tensorflow.org/api_docs/python/tf/function for  more details.\n",
            "WARNING:tensorflow:6 out of the last 6 calls to <function _BaseOptimizer._update_step_xla at 0x7c68c84de170> triggered tf.function retracing. Tracing is expensive and the excessive number of tracings could be due to (1) creating @tf.function repeatedly in a loop, (2) passing tensors with different shapes, (3) passing Python objects instead of tensors. For (1), please define your @tf.function outside of the loop. For (2), @tf.function has reduce_retracing=True option that can avoid unnecessary retracing. For (3), please refer to https://www.tensorflow.org/guide/function#controlling_retracing and https://www.tensorflow.org/api_docs/python/tf/function for  more details.\n"
          ]
        },
        {
          "output_type": "stream",
          "name": "stdout",
          "text": [
            "Class_accuracy: 97.48%\n",
            "Epoch 2: Class_accuracy: 98.44%\n",
            "Epoch 3: Class_accuracy: 98.70%\n",
            "Epoch 4: Class_accuracy: 98.82%\n",
            "Epoch 5: Class_accuracy: 98.89%\n",
            "Epoch 6: Class_accuracy: 99.03%\n",
            "Epoch 7: Class_accuracy: 99.08%\n",
            "Epoch 8: Class_accuracy: 99.15%\n",
            "Epoch 9: Class_accuracy: 99.21%\n",
            "Epoch 10: Class_accuracy: 99.19%\n",
            "Epoch 11: Class_accuracy: 99.22%\n",
            "Epoch 12: Class_accuracy: 99.31%\n"
          ]
        }
      ],
      "source": [
        "# @title Default title text\n",
        "# your code start from here for step 5\n",
        "\n",
        "train_and_evaluate(cnn_model,compute_teacher_loss)\n",
        "\n",
        "\n"
      ]
    },
    {
      "cell_type": "code",
      "source": [
        "student_train_and_evaluate(fc_model,compute_student_loss, 0.7, 8)"
      ],
      "metadata": {
        "id": "KfJnRAla0gBb",
        "colab": {
          "base_uri": "https://localhost:8080/"
        },
        "outputId": "b6a15fb8-8e8d-43e7-b196-af15dbba7ec5"
      },
      "execution_count": 11,
      "outputs": [
        {
          "output_type": "stream",
          "name": "stdout",
          "text": [
            "Epoch 1: Class_accuracy: 97.28%\n",
            "Epoch 2: Class_accuracy: 97.94%\n",
            "Epoch 3: Class_accuracy: 98.33%\n",
            "Epoch 4: Class_accuracy: 98.54%\n",
            "Epoch 5: Class_accuracy: 98.65%\n",
            "Epoch 6: Class_accuracy: 98.80%\n",
            "Epoch 7: Class_accuracy: 98.69%\n",
            "Epoch 8: Class_accuracy: 98.80%\n",
            "Epoch 9: Class_accuracy: 98.84%\n",
            "Epoch 10: Class_accuracy: 98.86%\n",
            "Epoch 11: Class_accuracy: 98.90%\n",
            "Epoch 12: Class_accuracy: 98.86%\n"
          ]
        }
      ]
    },
    {
      "cell_type": "markdown",
      "metadata": {
        "id": "sj1N38fnRTNB"
      },
      "source": [
        "# Test accuracy vs. tempreture curve"
      ]
    },
    {
      "cell_type": "code",
      "execution_count": null,
      "metadata": {
        "id": "gX4dbazrRWIz",
        "colab": {
          "base_uri": "https://localhost:8080/"
        },
        "outputId": "72d6af77-4ee3-470a-b7d1-da9dd208aacf"
      },
      "outputs": [
        {
          "output_type": "stream",
          "name": "stdout",
          "text": [
            "\n",
            " For Distillation temperature: 1\n",
            "Epoch 1: Class_accuracy: 98.43%\n",
            "Epoch 2: Class_accuracy: 98.52%\n",
            "Epoch 3: Class_accuracy: 98.56%\n",
            "Epoch 4: Class_accuracy: 98.64%\n",
            "Epoch 5: Class_accuracy: 98.54%\n",
            "Epoch 6: Class_accuracy: 98.62%\n",
            "Epoch 7: Class_accuracy: 98.56%\n",
            "Epoch 8: Class_accuracy: 98.55%\n",
            "Epoch 9: Class_accuracy: 98.58%\n",
            "Epoch 10: Class_accuracy: 98.51%\n",
            "Epoch 11: Class_accuracy: 98.25%\n",
            "Epoch 12: Class_accuracy: 98.38%\n",
            "\n",
            " For Distillation temperature: 2\n",
            "Epoch 1: Class_accuracy: 98.55%\n",
            "Epoch 2: Class_accuracy: 98.49%\n",
            "Epoch 3: Class_accuracy: 98.53%\n",
            "Epoch 4: Class_accuracy: 98.56%\n",
            "Epoch 5: Class_accuracy: 98.51%\n",
            "Epoch 6: Class_accuracy: 98.56%\n",
            "Epoch 7: Class_accuracy: 98.17%\n",
            "Epoch 8: Class_accuracy: 98.24%\n",
            "Epoch 9: Class_accuracy: 98.47%\n",
            "Epoch 10: Class_accuracy: 98.56%\n",
            "Epoch 11: Class_accuracy: 98.48%\n",
            "Epoch 12: Class_accuracy: 98.55%\n",
            "\n",
            " For Distillation temperature: 4\n",
            "Epoch 1: Class_accuracy: 98.50%\n",
            "Epoch 2: Class_accuracy: 98.43%\n",
            "Epoch 3: Class_accuracy: 98.36%\n",
            "Epoch 4: Class_accuracy: 98.40%\n",
            "Epoch 5: Class_accuracy: 98.48%\n",
            "Epoch 6: Class_accuracy: 98.48%\n",
            "Epoch 7: Class_accuracy: 98.50%\n",
            "Epoch 8: Class_accuracy: 98.49%\n",
            "Epoch 9: Class_accuracy: 98.56%\n",
            "Epoch 10: Class_accuracy: 98.52%\n",
            "Epoch 11: Class_accuracy: 98.04%\n",
            "Epoch 12: Class_accuracy: 98.47%\n",
            "\n",
            " For Distillation temperature: 16\n",
            "Epoch 1: Class_accuracy: 98.32%\n",
            "Epoch 2: Class_accuracy: 98.46%\n",
            "Epoch 3: Class_accuracy: 98.42%\n",
            "Epoch 4: Class_accuracy: 98.41%\n",
            "Epoch 5: Class_accuracy: 98.50%\n",
            "Epoch 6: Class_accuracy: 98.48%\n",
            "Epoch 7: Class_accuracy: 98.50%\n",
            "Epoch 8: Class_accuracy: 98.39%\n",
            "Epoch 9: Class_accuracy: 98.39%\n",
            "Epoch 10: Class_accuracy: 98.23%\n",
            "Epoch 11: Class_accuracy: 98.44%\n",
            "Epoch 12: Class_accuracy: 98.38%\n",
            "\n",
            " For Distillation temperature: 32\n",
            "Epoch 1: Class_accuracy: 98.46%\n",
            "Epoch 2: Class_accuracy: 98.30%\n",
            "Epoch 3: Class_accuracy: 98.42%\n",
            "Epoch 4: Class_accuracy: 98.29%\n",
            "Epoch 5: Class_accuracy: 98.49%\n",
            "Epoch 6: Class_accuracy: 98.50%\n",
            "Epoch 7: Class_accuracy: 98.46%\n",
            "Epoch 8: Class_accuracy: 98.48%\n",
            "Epoch 9: Class_accuracy: 98.28%\n",
            "Epoch 10: Class_accuracy: 98.24%\n",
            "Epoch 11: Class_accuracy: 98.33%\n",
            "Epoch 12: Class_accuracy: 98.37%\n",
            "\n",
            " For Distillation temperature: 64\n",
            "Epoch 1: Class_accuracy: 98.24%\n",
            "Epoch 2: Class_accuracy: 98.19%\n",
            "Epoch 3: Class_accuracy: 98.31%\n",
            "Epoch 4: Class_accuracy: 98.25%\n",
            "Epoch 5: Class_accuracy: 98.31%\n",
            "Epoch 6: Class_accuracy: 98.39%\n",
            "Epoch 7: Class_accuracy: 98.32%\n",
            "Epoch 8: Class_accuracy: 98.31%\n",
            "Epoch 9: Class_accuracy: 98.34%\n",
            "Epoch 10: Class_accuracy: 98.06%\n",
            "Epoch 11: Class_accuracy: 98.26%\n",
            "Epoch 12: Class_accuracy: 98.13%\n"
          ]
        }
      ],
      "source": [
        "# your code start from here for step 6\n",
        "temperatures = [1, 2, 4, 16, 32, 64]\n",
        "\n",
        "for temp in temperatures:\n",
        "    print('\\n For Distillation temperature:', temp)\n",
        "    student_train_and_evaluate(fc_model, compute_student_loss, 0.5, temp)\n"
      ]
    },
    {
      "cell_type": "code",
      "source": [
        "import tensorflow as tf\n",
        "\n",
        "# Define a list of temperatures and alpha\n",
        "temperatures = [1, 2, 4, 16, 32, 64]\n",
        "alpha = 0.5\n",
        "test_accuracy = []\n",
        "\n",
        "# Define the student model architecture\n",
        "# Function to train and evaluate the student model\n",
        "\n",
        "\n",
        "# Iterate over temperatures and evaluate the model\n",
        "for i, temp in enumerate(temperatures):\n",
        "\n",
        "    student_train_and_evaluate(fc_model, compute_student_loss, alpha, temp)\n",
        "\n",
        "    num_correct = 0\n",
        "    num_total = builder.info.splits['test'].num_examples\n",
        "\n",
        "    print('For Distillation temperature:', temp)\n",
        "\n",
        "    for images, labels in mnist_test:\n",
        "        num_correct += compute_num_correct(fc_model, images, labels)[0]\n",
        "\n",
        "    class_accuracy = (num_correct / num_total) * 100\n",
        "    print(\"Class accuracy: {:.2f}%\".format(class_accuracy))\n",
        "    test_accuracy.append(class_accuracy)\n"
      ],
      "metadata": {
        "colab": {
          "base_uri": "https://localhost:8080/"
        },
        "id": "rNz-dwx9LhIY",
        "outputId": "ff6147ab-2498-4d06-a89d-34111f5345c7"
      },
      "execution_count": 12,
      "outputs": [
        {
          "output_type": "stream",
          "name": "stdout",
          "text": [
            "Epoch 1: Class_accuracy: 98.36%\n",
            "Epoch 2: Class_accuracy: 98.38%\n",
            "Epoch 3: Class_accuracy: 98.64%\n",
            "Epoch 4: Class_accuracy: 98.65%\n",
            "Epoch 5: Class_accuracy: 98.67%\n",
            "Epoch 6: Class_accuracy: 98.61%\n",
            "Epoch 7: Class_accuracy: 98.80%\n",
            "Epoch 8: Class_accuracy: 98.67%\n",
            "Epoch 9: Class_accuracy: 98.69%\n",
            "Epoch 10: Class_accuracy: 98.66%\n",
            "Epoch 11: Class_accuracy: 98.77%\n",
            "Epoch 12: Class_accuracy: 98.75%\n",
            "For Distillation temperature: 1\n",
            "Class accuracy: 98.75%\n",
            "Epoch 1: Class_accuracy: 98.73%\n",
            "Epoch 2: Class_accuracy: 98.84%\n",
            "Epoch 3: Class_accuracy: 98.86%\n",
            "Epoch 4: Class_accuracy: 98.94%\n",
            "Epoch 5: Class_accuracy: 98.81%\n",
            "Epoch 6: Class_accuracy: 98.92%\n",
            "Epoch 7: Class_accuracy: 98.83%\n",
            "Epoch 8: Class_accuracy: 98.98%\n",
            "Epoch 9: Class_accuracy: 98.88%\n",
            "Epoch 10: Class_accuracy: 99.00%\n",
            "Epoch 11: Class_accuracy: 99.03%\n",
            "Epoch 12: Class_accuracy: 99.03%\n",
            "For Distillation temperature: 2\n",
            "Class accuracy: 99.03%\n",
            "Epoch 1: Class_accuracy: 99.00%\n",
            "Epoch 2: Class_accuracy: 98.87%\n",
            "Epoch 3: Class_accuracy: 99.05%\n",
            "Epoch 4: Class_accuracy: 98.98%\n",
            "Epoch 5: Class_accuracy: 99.07%\n",
            "Epoch 6: Class_accuracy: 99.06%\n",
            "Epoch 7: Class_accuracy: 99.05%\n",
            "Epoch 8: Class_accuracy: 99.09%\n",
            "Epoch 9: Class_accuracy: 99.16%\n",
            "Epoch 10: Class_accuracy: 99.03%\n",
            "Epoch 11: Class_accuracy: 99.04%\n",
            "Epoch 12: Class_accuracy: 99.06%\n",
            "For Distillation temperature: 4\n",
            "Class accuracy: 99.06%\n",
            "Epoch 1: Class_accuracy: 99.04%\n",
            "Epoch 2: Class_accuracy: 99.06%\n",
            "Epoch 3: Class_accuracy: 99.13%\n",
            "Epoch 4: Class_accuracy: 99.16%\n",
            "Epoch 5: Class_accuracy: 99.16%\n",
            "Epoch 6: Class_accuracy: 99.17%\n",
            "Epoch 7: Class_accuracy: 99.14%\n",
            "Epoch 8: Class_accuracy: 99.17%\n",
            "Epoch 9: Class_accuracy: 99.18%\n",
            "Epoch 10: Class_accuracy: 99.19%\n",
            "Epoch 11: Class_accuracy: 99.16%\n",
            "Epoch 12: Class_accuracy: 99.16%\n",
            "For Distillation temperature: 16\n",
            "Class accuracy: 99.16%\n",
            "Epoch 1: Class_accuracy: 99.16%\n",
            "Epoch 2: Class_accuracy: 99.22%\n",
            "Epoch 3: Class_accuracy: 99.17%\n",
            "Epoch 4: Class_accuracy: 99.22%\n",
            "Epoch 5: Class_accuracy: 99.22%\n",
            "Epoch 6: Class_accuracy: 99.17%\n",
            "Epoch 7: Class_accuracy: 99.18%\n",
            "Epoch 8: Class_accuracy: 99.20%\n",
            "Epoch 9: Class_accuracy: 99.16%\n",
            "Epoch 10: Class_accuracy: 99.19%\n",
            "Epoch 11: Class_accuracy: 99.17%\n",
            "Epoch 12: Class_accuracy: 99.19%\n",
            "For Distillation temperature: 32\n",
            "Class accuracy: 99.19%\n",
            "Epoch 1: Class_accuracy: 99.21%\n",
            "Epoch 2: Class_accuracy: 99.20%\n",
            "Epoch 3: Class_accuracy: 99.20%\n",
            "Epoch 4: Class_accuracy: 99.17%\n",
            "Epoch 5: Class_accuracy: 99.22%\n",
            "Epoch 6: Class_accuracy: 99.22%\n",
            "Epoch 7: Class_accuracy: 99.17%\n",
            "Epoch 8: Class_accuracy: 99.21%\n",
            "Epoch 9: Class_accuracy: 99.22%\n",
            "Epoch 10: Class_accuracy: 99.17%\n",
            "Epoch 11: Class_accuracy: 99.22%\n",
            "Epoch 12: Class_accuracy: 99.23%\n",
            "For Distillation temperature: 64\n",
            "Class accuracy: 99.23%\n"
          ]
        }
      ]
    },
    {
      "cell_type": "code",
      "source": [
        "import matplotlib.pyplot as plt\n",
        "\n",
        "# Plotting Test accuracy vs. temperature curve\n",
        "plt.plot(temperatures, test_accuracy)\n",
        "plt.title('Test Accuracy vs. Temperature')\n",
        "plt.xlabel('Temperature')\n",
        "plt.ylabel('Accuracy')\n",
        "plt.grid(True)  # Add grid lines for better visualization\n",
        "plt.show()\n"
      ],
      "metadata": {
        "colab": {
          "base_uri": "https://localhost:8080/",
          "height": 472
        },
        "id": "Db_B1r3UPviG",
        "outputId": "49f41fbf-63ea-4621-b238-fb73579be204"
      },
      "execution_count": 13,
      "outputs": [
        {
          "output_type": "display_data",
          "data": {
            "text/plain": [
              "<Figure size 640x480 with 1 Axes>"
            ],
            "image/png": "[encoded data removed]"
          },
          "metadata": {}
        }
      ]
    },
    {
      "cell_type": "markdown",
      "metadata": {
        "id": "WNrH_1emRbGA"
      },
      "source": [
        "# Train student from scratch"
      ]
    },
    {
      "cell_type": "code",
      "execution_count": 14,
      "metadata": {
        "id": "HjospsxIRbQ6",
        "colab": {
          "base_uri": "https://localhost:8080/"
        },
        "outputId": "4b6d60d8-7062-43db-9c8b-037b174fbb9a"
      },
      "outputs": [
        {
          "output_type": "stream",
          "name": "stdout",
          "text": [
            "Epoch 1: Class_accuracy: 96.04%\n",
            "Epoch 2: Class_accuracy: 97.60%\n",
            "Epoch 3: Class_accuracy: 97.70%\n",
            "Epoch 4: Class_accuracy: 97.75%\n",
            "Epoch 5: Class_accuracy: 98.01%\n",
            "Epoch 6: Class_accuracy: 97.86%\n",
            "Epoch 7: Class_accuracy: 97.96%\n",
            "Epoch 8: Class_accuracy: 98.08%\n",
            "Epoch 9: Class_accuracy: 97.90%\n",
            "Epoch 10: Class_accuracy: 97.83%\n",
            "Epoch 11: Class_accuracy: 98.07%\n",
            "Epoch 12: Class_accuracy: 98.05%\n"
          ]
        }
      ],
      "source": [
        "# Build fully connected student.\n",
        "fc_model_no_distillation = tf.keras.Sequential([\n",
        "    tf.keras.layers.Flatten(input_shape=(28, 28, 1)),\n",
        "    tf.keras.layers.Dense(784, activation='relu'),\n",
        "    tf.keras.layers.Dense(784, activation='relu'),\n",
        "    tf.keras.layers.Dense(NUM_CLASSES),\n",
        "    ]\n",
        ")\n",
        "\n",
        "# your code start from here for step 7\n",
        "\n",
        "\n",
        "\n",
        "\n",
        "def compute_plain_cross_entropy_loss(images, labels):\n",
        "  \"\"\"Compute plain loss for given images and labels.\n",
        "\n",
        "  For fair comparison and convenience, this function also performs a\n",
        "  LogSumExp over subclasses, but does not perform subclass distillation.\n",
        "\n",
        "  Args:\n",
        "    images: Tensor representing a batch of images.\n",
        "    labels: Tensor representing a batch of labels.\n",
        "\n",
        "  Returns:\n",
        "    Scalar loss Tensor.\n",
        "  \"\"\"\n",
        "  # your code start from here for step 7\n",
        "\n",
        "  student_subclass_logits = fc_model_no_distillation(images, training=True)\n",
        "  cross_entropy_loss = tf.keras.losses.CategoricalCrossentropy(from_logits=True)(labels, student_subclass_logits)\n",
        "\n",
        "  return cross_entropy_loss\n",
        "\n",
        "\n",
        "train_and_evaluate(fc_model_no_distillation, compute_plain_cross_entropy_loss)"
      ]
    },
    {
      "cell_type": "markdown",
      "metadata": {
        "id": "yq3JTpQ4RuhR"
      },
      "source": [
        "# Comparing the teacher and student model (number of of parameters and FLOPs)"
      ]
    },
    {
      "cell_type": "code",
      "execution_count": 20,
      "metadata": {
        "id": "4V8GB2yRRuxF"
      },
      "outputs": [],
      "source": [
        "import tensorflow as tf\n",
        "from tensorflow.python.profiler.model_analyzer import profile\n",
        "from tensorflow.python.profiler.option_builder import ProfileOptionBuilder\n",
        "import numpy as np\n",
        "\n",
        "def get_flops(model):\n",
        "    # Define a forward pass as a tf.function\n",
        "    @tf.function(input_signature=[tf.TensorSpec(shape=(1,) + model.input_shape[1:])])\n",
        "    def forward_pass(inputs):\n",
        "        return model(inputs)\n",
        "\n",
        "    # Profile the forward pass to calculate FLOPs\n",
        "    graph_info = profile(forward_pass.get_concrete_function().graph,\n",
        "                        options=ProfileOptionBuilder.float_operation())\n",
        "\n",
        "    # Calculate FLOPs (floating-point operations)\n",
        "    flops = graph_info.total_float_ops // 2  # Divide by 2 to account for multiply and accumulate as two ops\n",
        "\n",
        "    # Calculate the number of model parameters\n",
        "    trainable_params = np.sum([np.prod(v.shape) for v in model.trainable_weights])\n",
        "    non_trainable_params = np.sum([np.prod(v.shape) for v in model.non_trainable_weights])\n",
        "    total_params = trainable_params + non_trainable_params\n",
        "\n",
        "    return flops, trainable_params, non_trainable_params, total_params\n"
      ]
    },
    {
      "cell_type": "code",
      "source": [
        "\n",
        "#Calculating FLOPs and no. of parameters for the teacher model\n",
        "\n",
        "flops_teacher,teacher_trainableParams,teacher_nonTrainableParams,teacher_totalParams = get_flops(cnn_model)\n",
        "print('Flops for teacher model: {:,}'.format(flops_teacher))\n",
        "print('Total Parameters for teacher model: {:,}'.format(teacher_totalParams))"
      ],
      "metadata": {
        "colab": {
          "base_uri": "https://localhost:8080/"
        },
        "id": "-Q1JEVKaGhDa",
        "outputId": "7c0ca14b-c720-442f-c248-8c93511d32fb"
      },
      "execution_count": 21,
      "outputs": [
        {
          "output_type": "stream",
          "name": "stdout",
          "text": [
            "Flops for teacher model: 4,278,853\n",
            "Total Parameters for teacher model: 421,642.0\n"
          ]
        }
      ]
    },
    {
      "cell_type": "code",
      "source": [
        "flops_student,student_trainableParams,student_nonTrainableParams,student_totalParams = get_flops(fc_model)\n",
        "print('Flops for student model: {:,}'.format(flops_student))\n",
        "print('Total Parameters for student model: {:,}'.format(student_totalParams))"
      ],
      "metadata": {
        "colab": {
          "base_uri": "https://localhost:8080/"
        },
        "id": "emoXm6lNUNH-",
        "outputId": "dfb71f0a-d231-4762-c28e-c5e62e94c2d4"
      },
      "execution_count": 22,
      "outputs": [
        {
          "output_type": "stream",
          "name": "stdout",
          "text": [
            "Flops for student model: 1,237,941\n",
            "Total Parameters for student model: 1,238,730.0\n"
          ]
        }
      ]
    },
    {
      "cell_type": "markdown",
      "metadata": {
        "id": "KjwJ5oziRvRn"
      },
      "source": [
        "# Implementing the state-of-the-art KD algorithm"
      ]
    },
    {
      "cell_type": "code",
      "execution_count": null,
      "metadata": {
        "id": "q10lybAFRvZt"
      },
      "outputs": [],
      "source": [
        "# your code start from here for step 12\n"
      ]
    },
    {
      "cell_type": "markdown",
      "metadata": {
        "id": "6dsOmtqdieIC"
      },
      "source": [
        "# XAI method to explain models"
      ]
    },
    {
      "cell_type": "code",
      "execution_count": null,
      "metadata": {
        "id": "X0IMIFW8ilPO"
      },
      "outputs": [],
      "source": [
        "# your code start from here for step 13\n"
      ]
    }
  ],
  "metadata": {
    "colab": {
      "provenance": [],
      "gpuType": "T4"
    },
    "kernelspec": {
      "display_name": "Python 3",
      "name": "python3"
    },
    "language_info": {
      "codemirror_mode": {
        "name": "ipython",
        "version": 3
      },
      "file_extension": ".py",
      "mimetype": "text/x-python",
      "name": "python",
      "nbconvert_exporter": "python",
      "pygments_lexer": "ipython3",
      "version": "3.10.9"
    },
    "accelerator": "GPU"
  },
  "nbformat": 4,
  "nbformat_minor": 0
}